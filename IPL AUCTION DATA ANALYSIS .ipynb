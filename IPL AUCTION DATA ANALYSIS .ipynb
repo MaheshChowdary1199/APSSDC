{
 "cells": [
  {
   "cell_type": "markdown",
   "id": "3fde002b",
   "metadata": {
    "papermill": {
     "duration": 0.012061,
     "end_time": "2022-09-12T07:54:12.383217",
     "exception": false,
     "start_time": "2022-09-12T07:54:12.371156",
     "status": "completed"
    },
    "tags": []
   },
   "source": [
    "# --------------------IPL Auction 2022 Analysis-------------------"
   ]
  },
  {
   "cell_type": "markdown",
   "id": "59e0dcef",
   "metadata": {
    "papermill": {
     "duration": 0.010844,
     "end_time": "2022-09-12T07:54:12.812664",
     "exception": false,
     "start_time": "2022-09-12T07:54:12.801820",
     "status": "completed"
    },
    "tags": []
   },
   "source": [
    "# Importing Libraries"
   ]
  },
  {
   "cell_type": "code",
   "execution_count": 1,
   "id": "09e99665",
   "metadata": {
    "execution": {
     "iopub.execute_input": "2022-09-12T07:54:12.838645Z",
     "iopub.status.busy": "2022-09-12T07:54:12.838282Z",
     "iopub.status.idle": "2022-09-12T07:54:13.968413Z",
     "shell.execute_reply": "2022-09-12T07:54:13.966963Z"
    },
    "papermill": {
     "duration": 1.146745,
     "end_time": "2022-09-12T07:54:13.970949",
     "exception": false,
     "start_time": "2022-09-12T07:54:12.824204",
     "status": "completed"
    },
    "tags": []
   },
   "outputs": [],
   "source": [
    "import pandas as pd\n",
    "import numpy as np\n",
    "import seaborn as sns\n",
    "import matplotlib.pyplot as plt\n",
    "%matplotlib inline\n",
    "import warnings\n",
    "warnings.filterwarnings('ignore')"
   ]
  },
  {
   "cell_type": "code",
   "execution_count": 2,
   "id": "703f3071",
   "metadata": {
    "execution": {
     "iopub.execute_input": "2022-09-12T07:54:13.997024Z",
     "iopub.status.busy": "2022-09-12T07:54:13.996732Z",
     "iopub.status.idle": "2022-09-12T07:54:14.041427Z",
     "shell.execute_reply": "2022-09-12T07:54:14.040359Z"
    },
    "papermill": {
     "duration": 0.059774,
     "end_time": "2022-09-12T07:54:14.043611",
     "exception": false,
     "start_time": "2022-09-12T07:54:13.983837",
     "status": "completed"
    },
    "tags": []
   },
   "outputs": [
    {
     "data": {
      "text/html": [
       "<div>\n",
       "<style scoped>\n",
       "    .dataframe tbody tr th:only-of-type {\n",
       "        vertical-align: middle;\n",
       "    }\n",
       "\n",
       "    .dataframe tbody tr th {\n",
       "        vertical-align: top;\n",
       "    }\n",
       "\n",
       "    .dataframe thead th {\n",
       "        text-align: right;\n",
       "    }\n",
       "</style>\n",
       "<table border=\"1\" class=\"dataframe\">\n",
       "  <thead>\n",
       "    <tr style=\"text-align: right;\">\n",
       "      <th></th>\n",
       "      <th>Player</th>\n",
       "      <th>Base Price</th>\n",
       "      <th>TYPE</th>\n",
       "      <th>COST IN ₹ (CR.)</th>\n",
       "      <th>Cost IN $ (000)</th>\n",
       "      <th>2021 Squad</th>\n",
       "      <th>Team</th>\n",
       "    </tr>\n",
       "  </thead>\n",
       "  <tbody>\n",
       "    <tr>\n",
       "      <th>0</th>\n",
       "      <td>Rashid Khan</td>\n",
       "      <td>Draft Pick</td>\n",
       "      <td>BOWLER</td>\n",
       "      <td>15.0</td>\n",
       "      <td>1950.0</td>\n",
       "      <td>SRH</td>\n",
       "      <td>Gujarat Titans</td>\n",
       "    </tr>\n",
       "    <tr>\n",
       "      <th>1</th>\n",
       "      <td>Hardik Pandya</td>\n",
       "      <td>Draft Pick</td>\n",
       "      <td>ALL-ROUNDER</td>\n",
       "      <td>15.0</td>\n",
       "      <td>1950.0</td>\n",
       "      <td>MI</td>\n",
       "      <td>Gujarat Titans</td>\n",
       "    </tr>\n",
       "    <tr>\n",
       "      <th>2</th>\n",
       "      <td>Lockie Ferguson</td>\n",
       "      <td>2 Cr</td>\n",
       "      <td>BOWLER</td>\n",
       "      <td>10.0</td>\n",
       "      <td>1300.0</td>\n",
       "      <td>KKR</td>\n",
       "      <td>Gujarat Titans</td>\n",
       "    </tr>\n",
       "    <tr>\n",
       "      <th>3</th>\n",
       "      <td>Rahul Tewatia</td>\n",
       "      <td>40 Lakh</td>\n",
       "      <td>ALL-ROUNDER</td>\n",
       "      <td>9.0</td>\n",
       "      <td>1170.0</td>\n",
       "      <td>RR</td>\n",
       "      <td>Gujarat Titans</td>\n",
       "    </tr>\n",
       "    <tr>\n",
       "      <th>4</th>\n",
       "      <td>Shubman Gill</td>\n",
       "      <td>Draft Pick</td>\n",
       "      <td>BATTER</td>\n",
       "      <td>8.0</td>\n",
       "      <td>1040.0</td>\n",
       "      <td>KKR</td>\n",
       "      <td>Gujarat Titans</td>\n",
       "    </tr>\n",
       "    <tr>\n",
       "      <th>...</th>\n",
       "      <td>...</td>\n",
       "      <td>...</td>\n",
       "      <td>...</td>\n",
       "      <td>...</td>\n",
       "      <td>...</td>\n",
       "      <td>...</td>\n",
       "      <td>...</td>\n",
       "    </tr>\n",
       "    <tr>\n",
       "      <th>628</th>\n",
       "      <td>Sairaj Patil</td>\n",
       "      <td>20 Lakh</td>\n",
       "      <td>BATTER</td>\n",
       "      <td>NaN</td>\n",
       "      <td>NaN</td>\n",
       "      <td>NaN</td>\n",
       "      <td>Unsold</td>\n",
       "    </tr>\n",
       "    <tr>\n",
       "      <th>629</th>\n",
       "      <td>Monu Singh</td>\n",
       "      <td>20 Lakh</td>\n",
       "      <td>BOWLER</td>\n",
       "      <td>NaN</td>\n",
       "      <td>NaN</td>\n",
       "      <td>NaN</td>\n",
       "      <td>Unsold</td>\n",
       "    </tr>\n",
       "    <tr>\n",
       "      <th>630</th>\n",
       "      <td>Nivethan Radhakrishnan</td>\n",
       "      <td>20 Lakh</td>\n",
       "      <td>BOWLER</td>\n",
       "      <td>NaN</td>\n",
       "      <td>NaN</td>\n",
       "      <td>NaN</td>\n",
       "      <td>Unsold</td>\n",
       "    </tr>\n",
       "    <tr>\n",
       "      <th>631</th>\n",
       "      <td>Lance Morris</td>\n",
       "      <td>20 Lakh</td>\n",
       "      <td>BOWLER</td>\n",
       "      <td>NaN</td>\n",
       "      <td>NaN</td>\n",
       "      <td>NaN</td>\n",
       "      <td>Unsold</td>\n",
       "    </tr>\n",
       "    <tr>\n",
       "      <th>632</th>\n",
       "      <td>Aaron Hardie</td>\n",
       "      <td>20 Lakh</td>\n",
       "      <td>ALL-ROUNDER</td>\n",
       "      <td>NaN</td>\n",
       "      <td>NaN</td>\n",
       "      <td>NaN</td>\n",
       "      <td>Unsold</td>\n",
       "    </tr>\n",
       "  </tbody>\n",
       "</table>\n",
       "<p>633 rows × 7 columns</p>\n",
       "</div>"
      ],
      "text/plain": [
       "                     Player  Base Price         TYPE  COST IN ₹ (CR.)  \\\n",
       "0               Rashid Khan  Draft Pick       BOWLER             15.0   \n",
       "1             Hardik Pandya  Draft Pick  ALL-ROUNDER             15.0   \n",
       "2           Lockie Ferguson        2 Cr       BOWLER             10.0   \n",
       "3             Rahul Tewatia     40 Lakh  ALL-ROUNDER              9.0   \n",
       "4              Shubman Gill  Draft Pick       BATTER              8.0   \n",
       "..                      ...         ...          ...              ...   \n",
       "628            Sairaj Patil     20 Lakh       BATTER              NaN   \n",
       "629              Monu Singh     20 Lakh       BOWLER              NaN   \n",
       "630  Nivethan Radhakrishnan     20 Lakh       BOWLER              NaN   \n",
       "631            Lance Morris     20 Lakh       BOWLER              NaN   \n",
       "632            Aaron Hardie     20 Lakh  ALL-ROUNDER              NaN   \n",
       "\n",
       "     Cost IN $ (000) 2021 Squad            Team  \n",
       "0             1950.0        SRH  Gujarat Titans  \n",
       "1             1950.0         MI  Gujarat Titans  \n",
       "2             1300.0        KKR  Gujarat Titans  \n",
       "3             1170.0         RR  Gujarat Titans  \n",
       "4             1040.0        KKR  Gujarat Titans  \n",
       "..               ...        ...             ...  \n",
       "628              NaN        NaN          Unsold  \n",
       "629              NaN        NaN          Unsold  \n",
       "630              NaN        NaN          Unsold  \n",
       "631              NaN        NaN          Unsold  \n",
       "632              NaN        NaN          Unsold  \n",
       "\n",
       "[633 rows x 7 columns]"
      ]
     },
     "execution_count": 2,
     "metadata": {},
     "output_type": "execute_result"
    }
   ],
   "source": [
    "df = pd.read_csv('ipl_2022_dataset.csv',index_col= 0)\n",
    "df"
   ]
  },
  {
   "cell_type": "code",
   "execution_count": 3,
   "id": "3ee85604",
   "metadata": {
    "execution": {
     "iopub.execute_input": "2022-09-12T07:54:14.069844Z",
     "iopub.status.busy": "2022-09-12T07:54:14.069320Z",
     "iopub.status.idle": "2022-09-12T07:54:14.074423Z",
     "shell.execute_reply": "2022-09-12T07:54:14.073511Z"
    },
    "papermill": {
     "duration": 0.020351,
     "end_time": "2022-09-12T07:54:14.076168",
     "exception": false,
     "start_time": "2022-09-12T07:54:14.055817",
     "status": "completed"
    },
    "tags": []
   },
   "outputs": [
    {
     "data": {
      "text/plain": [
       "(633, 7)"
      ]
     },
     "execution_count": 3,
     "metadata": {},
     "output_type": "execute_result"
    }
   ],
   "source": [
    "df.shape"
   ]
  },
  {
   "cell_type": "code",
   "execution_count": 4,
   "id": "27c9430d",
   "metadata": {
    "execution": {
     "iopub.execute_input": "2022-09-12T07:54:14.101674Z",
     "iopub.status.busy": "2022-09-12T07:54:14.100969Z",
     "iopub.status.idle": "2022-09-12T07:54:14.120200Z",
     "shell.execute_reply": "2022-09-12T07:54:14.118394Z"
    },
    "papermill": {
     "duration": 0.034201,
     "end_time": "2022-09-12T07:54:14.122357",
     "exception": false,
     "start_time": "2022-09-12T07:54:14.088156",
     "status": "completed"
    },
    "tags": []
   },
   "outputs": [
    {
     "name": "stdout",
     "output_type": "stream",
     "text": [
      "<class 'pandas.core.frame.DataFrame'>\n",
      "Int64Index: 633 entries, 0 to 632\n",
      "Data columns (total 7 columns):\n",
      " #   Column           Non-Null Count  Dtype  \n",
      "---  ------           --------------  -----  \n",
      " 0   Player           633 non-null    object \n",
      " 1   Base Price       633 non-null    object \n",
      " 2   TYPE             633 non-null    object \n",
      " 3   COST IN ₹ (CR.)  237 non-null    float64\n",
      " 4   Cost IN $ (000)  237 non-null    float64\n",
      " 5   2021 Squad       199 non-null    object \n",
      " 6   Team             633 non-null    object \n",
      "dtypes: float64(2), object(5)\n",
      "memory usage: 39.6+ KB\n"
     ]
    }
   ],
   "source": [
    "# Information of Data\n",
    "df.info()"
   ]
  },
  {
   "cell_type": "markdown",
   "id": "24777a9d",
   "metadata": {
    "papermill": {
     "duration": 0.012195,
     "end_time": "2022-09-12T07:54:14.146670",
     "exception": false,
     "start_time": "2022-09-12T07:54:14.134475",
     "status": "completed"
    },
    "tags": []
   },
   "source": [
    "# Checking Null Values"
   ]
  },
  {
   "cell_type": "code",
   "execution_count": 5,
   "id": "962fb8f9",
   "metadata": {
    "execution": {
     "iopub.execute_input": "2022-09-12T07:54:14.172845Z",
     "iopub.status.busy": "2022-09-12T07:54:14.172483Z",
     "iopub.status.idle": "2022-09-12T07:54:14.180243Z",
     "shell.execute_reply": "2022-09-12T07:54:14.178922Z"
    },
    "papermill": {
     "duration": 0.023527,
     "end_time": "2022-09-12T07:54:14.182350",
     "exception": false,
     "start_time": "2022-09-12T07:54:14.158823",
     "status": "completed"
    },
    "tags": []
   },
   "outputs": [
    {
     "data": {
      "text/plain": [
       "Player               0\n",
       "Base Price           0\n",
       "TYPE                 0\n",
       "COST IN ₹ (CR.)    396\n",
       "Cost IN $ (000)    396\n",
       "2021 Squad         434\n",
       "Team                 0\n",
       "dtype: int64"
      ]
     },
     "execution_count": 5,
     "metadata": {},
     "output_type": "execute_result"
    }
   ],
   "source": [
    "df.isnull().sum()"
   ]
  },
  {
   "cell_type": "code",
   "execution_count": 6,
   "id": "e6274889",
   "metadata": {
    "execution": {
     "iopub.execute_input": "2022-09-12T07:54:14.209108Z",
     "iopub.status.busy": "2022-09-12T07:54:14.208603Z",
     "iopub.status.idle": "2022-09-12T07:54:14.213678Z",
     "shell.execute_reply": "2022-09-12T07:54:14.213035Z"
    },
    "papermill": {
     "duration": 0.020723,
     "end_time": "2022-09-12T07:54:14.215300",
     "exception": false,
     "start_time": "2022-09-12T07:54:14.194577",
     "status": "completed"
    },
    "tags": []
   },
   "outputs": [],
   "source": [
    "# These are the Players which went Unsold in 2022 Auctions so their Cost we can replace with ZERO\n",
    "df['COST IN ₹ (CR.)'] = df['COST IN ₹ (CR.)'].fillna(0)\n",
    "df['Cost IN $ (000)'] = df['Cost IN $ (000)'].fillna(0)"
   ]
  },
  {
   "cell_type": "code",
   "execution_count": 7,
   "id": "8a13cf74",
   "metadata": {
    "execution": {
     "iopub.execute_input": "2022-09-12T07:54:14.241016Z",
     "iopub.status.busy": "2022-09-12T07:54:14.240686Z",
     "iopub.status.idle": "2022-09-12T07:54:14.246232Z",
     "shell.execute_reply": "2022-09-12T07:54:14.245317Z"
    },
    "papermill": {
     "duration": 0.020725,
     "end_time": "2022-09-12T07:54:14.247976",
     "exception": false,
     "start_time": "2022-09-12T07:54:14.227251",
     "status": "completed"
    },
    "tags": []
   },
   "outputs": [],
   "source": [
    "# These are the Players who either went Unsold in 2021 IPL or participating for the first time in IPL\n",
    "df['2021 Squad'] = df['2021 Squad'].fillna('Not Participated in IPL 2021')"
   ]
  },
  {
   "cell_type": "code",
   "execution_count": 8,
   "id": "357b087e",
   "metadata": {
    "execution": {
     "iopub.execute_input": "2022-09-12T07:54:14.273387Z",
     "iopub.status.busy": "2022-09-12T07:54:14.273082Z",
     "iopub.status.idle": "2022-09-12T07:54:14.280515Z",
     "shell.execute_reply": "2022-09-12T07:54:14.279890Z"
    },
    "papermill": {
     "duration": 0.022715,
     "end_time": "2022-09-12T07:54:14.282675",
     "exception": false,
     "start_time": "2022-09-12T07:54:14.259960",
     "status": "completed"
    },
    "tags": []
   },
   "outputs": [
    {
     "data": {
      "text/plain": [
       "Player             0\n",
       "Base Price         0\n",
       "TYPE               0\n",
       "COST IN ₹ (CR.)    0\n",
       "Cost IN $ (000)    0\n",
       "2021 Squad         0\n",
       "Team               0\n",
       "dtype: int64"
      ]
     },
     "execution_count": 8,
     "metadata": {},
     "output_type": "execute_result"
    }
   ],
   "source": [
    "df.isnull().sum()"
   ]
  },
  {
   "cell_type": "code",
   "execution_count": 9,
   "id": "4303c913",
   "metadata": {
    "execution": {
     "iopub.execute_input": "2022-09-12T07:54:14.309857Z",
     "iopub.status.busy": "2022-09-12T07:54:14.308754Z",
     "iopub.status.idle": "2022-09-12T07:54:14.318893Z",
     "shell.execute_reply": "2022-09-12T07:54:14.317980Z"
    },
    "papermill": {
     "duration": 0.02594,
     "end_time": "2022-09-12T07:54:14.321027",
     "exception": false,
     "start_time": "2022-09-12T07:54:14.295087",
     "status": "completed"
    },
    "tags": []
   },
   "outputs": [
    {
     "data": {
      "text/plain": [
       "array(['Gujarat Titans', 'Chennai Super Kings', 'Delhi Capitals',\n",
       "       'Kolkata Knight Riders', 'Punjab Kings', 'Lucknow Super Giants',\n",
       "       'Mumbai Indians', 'Royal Challengers Bangalore',\n",
       "       'Rajasthan Royals', 'Sunrisers Hyderabad'], dtype=object)"
      ]
     },
     "execution_count": 9,
     "metadata": {},
     "output_type": "execute_result"
    }
   ],
   "source": [
    "teams = df[df['COST IN ₹ (CR.)']>0]['Team'].unique()\n",
    "teams"
   ]
  },
  {
   "cell_type": "code",
   "execution_count": 10,
   "id": "4d1458df",
   "metadata": {
    "execution": {
     "iopub.execute_input": "2022-09-12T07:54:14.348835Z",
     "iopub.status.busy": "2022-09-12T07:54:14.347126Z",
     "iopub.status.idle": "2022-09-12T07:54:14.356805Z",
     "shell.execute_reply": "2022-09-12T07:54:14.355983Z"
    },
    "papermill": {
     "duration": 0.024968,
     "end_time": "2022-09-12T07:54:14.358486",
     "exception": false,
     "start_time": "2022-09-12T07:54:14.333518",
     "status": "completed"
    },
    "tags": []
   },
   "outputs": [
    {
     "data": {
      "text/plain": [
       "0        sold\n",
       "1        sold\n",
       "2        sold\n",
       "3        sold\n",
       "4        sold\n",
       "        ...  \n",
       "628    Unsold\n",
       "629    Unsold\n",
       "630    Unsold\n",
       "631    Unsold\n",
       "632    Unsold\n",
       "Name: status, Length: 633, dtype: object"
      ]
     },
     "execution_count": 10,
     "metadata": {},
     "output_type": "execute_result"
    }
   ],
   "source": [
    "df['status'] = df['Team'].replace(teams,'sold')\n",
    "df['status']"
   ]
  },
  {
   "cell_type": "code",
   "execution_count": 11,
   "id": "6197c90b",
   "metadata": {
    "execution": {
     "iopub.execute_input": "2022-09-12T07:54:14.385917Z",
     "iopub.status.busy": "2022-09-12T07:54:14.385592Z",
     "iopub.status.idle": "2022-09-12T07:54:14.393021Z",
     "shell.execute_reply": "2022-09-12T07:54:14.392220Z"
    },
    "papermill": {
     "duration": 0.023652,
     "end_time": "2022-09-12T07:54:14.394762",
     "exception": false,
     "start_time": "2022-09-12T07:54:14.371110",
     "status": "completed"
    },
    "tags": []
   },
   "outputs": [
    {
     "data": {
      "text/plain": [
       "array(['Draft Pick', '2 Cr', '40 Lakh', '20 Lakh', '1 Cr', '75 Lakh',\n",
       "       '50 Lakh', '30 Lakh', 'Retained', '1.5 Cr'], dtype=object)"
      ]
     },
     "execution_count": 11,
     "metadata": {},
     "output_type": "execute_result"
    }
   ],
   "source": [
    "df['Base Price'].unique()"
   ]
  },
  {
   "cell_type": "code",
   "execution_count": 12,
   "id": "f27cb980",
   "metadata": {
    "execution": {
     "iopub.execute_input": "2022-09-12T07:54:14.423037Z",
     "iopub.status.busy": "2022-09-12T07:54:14.421916Z",
     "iopub.status.idle": "2022-09-12T07:54:14.429287Z",
     "shell.execute_reply": "2022-09-12T07:54:14.427452Z"
    },
    "papermill": {
     "duration": 0.024008,
     "end_time": "2022-09-12T07:54:14.431823",
     "exception": false,
     "start_time": "2022-09-12T07:54:14.407815",
     "status": "completed"
    },
    "tags": []
   },
   "outputs": [],
   "source": [
    "# creating new column \n",
    "df['retention'] = df['Base Price']"
   ]
  },
  {
   "cell_type": "code",
   "execution_count": 13,
   "id": "3ba41b7f",
   "metadata": {
    "execution": {
     "iopub.execute_input": "2022-09-12T07:54:14.459351Z",
     "iopub.status.busy": "2022-09-12T07:54:14.458822Z",
     "iopub.status.idle": "2022-09-12T07:54:14.468023Z",
     "shell.execute_reply": "2022-09-12T07:54:14.466999Z"
    },
    "papermill": {
     "duration": 0.025634,
     "end_time": "2022-09-12T07:54:14.470144",
     "exception": false,
     "start_time": "2022-09-12T07:54:14.444510",
     "status": "completed"
    },
    "tags": []
   },
   "outputs": [
    {
     "data": {
      "text/plain": [
       "0      Draft Pick\n",
       "1      Draft Pick\n",
       "2      In Auction\n",
       "3      In Auction\n",
       "4      Draft Pick\n",
       "          ...    \n",
       "628    In Auction\n",
       "629    In Auction\n",
       "630    In Auction\n",
       "631    In Auction\n",
       "632    In Auction\n",
       "Name: retention, Length: 633, dtype: object"
      ]
     },
     "execution_count": 13,
     "metadata": {},
     "output_type": "execute_result"
    }
   ],
   "source": [
    "df['retention'].replace(['2 Cr', '40 Lakh', '20 Lakh', '1 Cr', '75 Lakh','50 Lakh', '30 Lakh','1.5 Cr'],'In Auction', inplace = True)\n",
    "df['retention']"
   ]
  },
  {
   "cell_type": "code",
   "execution_count": 14,
   "id": "fcebc84e",
   "metadata": {
    "execution": {
     "iopub.execute_input": "2022-09-12T07:54:14.497425Z",
     "iopub.status.busy": "2022-09-12T07:54:14.496880Z",
     "iopub.status.idle": "2022-09-12T07:54:14.504061Z",
     "shell.execute_reply": "2022-09-12T07:54:14.503035Z"
    },
    "papermill": {
     "duration": 0.02326,
     "end_time": "2022-09-12T07:54:14.506253",
     "exception": false,
     "start_time": "2022-09-12T07:54:14.482993",
     "status": "completed"
    },
    "tags": []
   },
   "outputs": [
    {
     "data": {
      "text/plain": [
       "0            0\n",
       "1            0\n",
       "2         2 Cr\n",
       "3      40 Lakh\n",
       "4            0\n",
       "        ...   \n",
       "628    20 Lakh\n",
       "629    20 Lakh\n",
       "630    20 Lakh\n",
       "631    20 Lakh\n",
       "632    20 Lakh\n",
       "Name: Base Price, Length: 633, dtype: object"
      ]
     },
     "execution_count": 14,
     "metadata": {},
     "output_type": "execute_result"
    }
   ],
   "source": [
    "df['Base Price'].replace('Draft Pick',0, inplace = True)\n",
    "df['Base Price']"
   ]
  },
  {
   "cell_type": "code",
   "execution_count": 15,
   "id": "9dc9538d",
   "metadata": {
    "execution": {
     "iopub.execute_input": "2022-09-12T07:54:14.534135Z",
     "iopub.status.busy": "2022-09-12T07:54:14.533594Z",
     "iopub.status.idle": "2022-09-12T07:54:14.540913Z",
     "shell.execute_reply": "2022-09-12T07:54:14.539720Z"
    },
    "papermill": {
     "duration": 0.023757,
     "end_time": "2022-09-12T07:54:14.542999",
     "exception": false,
     "start_time": "2022-09-12T07:54:14.519242",
     "status": "completed"
    },
    "tags": []
   },
   "outputs": [],
   "source": [
    "df['base_price_unit'] = df['Base Price'].apply(lambda x: str(x).split(' ')[-1])\n",
    "df['base_price'] = df['Base Price'].apply(lambda x: str(x).split(' ')[0])"
   ]
  },
  {
   "cell_type": "code",
   "execution_count": 16,
   "id": "33019926",
   "metadata": {
    "execution": {
     "iopub.execute_input": "2022-09-12T07:54:14.570924Z",
     "iopub.status.busy": "2022-09-12T07:54:14.570351Z",
     "iopub.status.idle": "2022-09-12T07:54:14.576328Z",
     "shell.execute_reply": "2022-09-12T07:54:14.575803Z"
    },
    "papermill": {
     "duration": 0.021916,
     "end_time": "2022-09-12T07:54:14.578026",
     "exception": false,
     "start_time": "2022-09-12T07:54:14.556110",
     "status": "completed"
    },
    "tags": []
   },
   "outputs": [
    {
     "data": {
      "text/plain": [
       "0         0\n",
       "1         0\n",
       "2        Cr\n",
       "3      Lakh\n",
       "4         0\n",
       "       ... \n",
       "628    Lakh\n",
       "629    Lakh\n",
       "630    Lakh\n",
       "631    Lakh\n",
       "632    Lakh\n",
       "Name: base_price_unit, Length: 633, dtype: object"
      ]
     },
     "execution_count": 16,
     "metadata": {},
     "output_type": "execute_result"
    }
   ],
   "source": [
    "df['base_price_unit']"
   ]
  },
  {
   "cell_type": "code",
   "execution_count": 17,
   "id": "75b2e736",
   "metadata": {
    "execution": {
     "iopub.execute_input": "2022-09-12T07:54:14.605358Z",
     "iopub.status.busy": "2022-09-12T07:54:14.604170Z",
     "iopub.status.idle": "2022-09-12T07:54:14.612525Z",
     "shell.execute_reply": "2022-09-12T07:54:14.611193Z"
    },
    "papermill": {
     "duration": 0.024425,
     "end_time": "2022-09-12T07:54:14.615063",
     "exception": false,
     "start_time": "2022-09-12T07:54:14.590638",
     "status": "completed"
    },
    "tags": []
   },
   "outputs": [
    {
     "data": {
      "text/plain": [
       "0       0\n",
       "1       0\n",
       "2       2\n",
       "3      40\n",
       "4       0\n",
       "       ..\n",
       "628    20\n",
       "629    20\n",
       "630    20\n",
       "631    20\n",
       "632    20\n",
       "Name: base_price, Length: 633, dtype: object"
      ]
     },
     "execution_count": 17,
     "metadata": {},
     "output_type": "execute_result"
    }
   ],
   "source": [
    "df['base_price']"
   ]
  },
  {
   "cell_type": "code",
   "execution_count": 18,
   "id": "c86f8971",
   "metadata": {
    "execution": {
     "iopub.execute_input": "2022-09-12T07:54:14.642391Z",
     "iopub.status.busy": "2022-09-12T07:54:14.641639Z",
     "iopub.status.idle": "2022-09-12T07:54:14.647191Z",
     "shell.execute_reply": "2022-09-12T07:54:14.646503Z"
    },
    "papermill": {
     "duration": 0.021473,
     "end_time": "2022-09-12T07:54:14.649334",
     "exception": false,
     "start_time": "2022-09-12T07:54:14.627861",
     "status": "completed"
    },
    "tags": []
   },
   "outputs": [
    {
     "data": {
      "text/plain": [
       "array(['0', '2', '40', '20', '1', '75', '50', '30', 'Retained', '1.5'],\n",
       "      dtype=object)"
      ]
     },
     "execution_count": 18,
     "metadata": {},
     "output_type": "execute_result"
    }
   ],
   "source": [
    "df['base_price'].unique()"
   ]
  },
  {
   "cell_type": "code",
   "execution_count": 19,
   "id": "c35d288a",
   "metadata": {
    "execution": {
     "iopub.execute_input": "2022-09-12T07:54:14.676531Z",
     "iopub.status.busy": "2022-09-12T07:54:14.675997Z",
     "iopub.status.idle": "2022-09-12T07:54:14.681154Z",
     "shell.execute_reply": "2022-09-12T07:54:14.680148Z"
    },
    "papermill": {
     "duration": 0.021072,
     "end_time": "2022-09-12T07:54:14.683299",
     "exception": false,
     "start_time": "2022-09-12T07:54:14.662227",
     "status": "completed"
    },
    "tags": []
   },
   "outputs": [],
   "source": [
    "df['base_price'].replace('Retained',0,inplace=True)"
   ]
  },
  {
   "cell_type": "code",
   "execution_count": 20,
   "id": "98a1d12e",
   "metadata": {
    "execution": {
     "iopub.execute_input": "2022-09-12T07:54:14.712148Z",
     "iopub.status.busy": "2022-09-12T07:54:14.711606Z",
     "iopub.status.idle": "2022-09-12T07:54:14.716428Z",
     "shell.execute_reply": "2022-09-12T07:54:14.715886Z"
    },
    "papermill": {
     "duration": 0.021108,
     "end_time": "2022-09-12T07:54:14.718083",
     "exception": false,
     "start_time": "2022-09-12T07:54:14.696975",
     "status": "completed"
    },
    "tags": []
   },
   "outputs": [
    {
     "data": {
      "text/plain": [
       "array(['0', '2', '40', '20', '1', '75', '50', '30', 0, '1.5'],\n",
       "      dtype=object)"
      ]
     },
     "execution_count": 20,
     "metadata": {},
     "output_type": "execute_result"
    }
   ],
   "source": [
    "df['base_price'].unique()"
   ]
  },
  {
   "cell_type": "code",
   "execution_count": 21,
   "id": "47dac275",
   "metadata": {
    "execution": {
     "iopub.execute_input": "2022-09-12T07:54:14.745936Z",
     "iopub.status.busy": "2022-09-12T07:54:14.745484Z",
     "iopub.status.idle": "2022-09-12T07:54:14.752223Z",
     "shell.execute_reply": "2022-09-12T07:54:14.751215Z"
    },
    "papermill": {
     "duration": 0.023494,
     "end_time": "2022-09-12T07:54:14.754613",
     "exception": false,
     "start_time": "2022-09-12T07:54:14.731119",
     "status": "completed"
    },
    "tags": []
   },
   "outputs": [
    {
     "data": {
      "text/plain": [
       "array(['0', 'Cr', 'Lakh', 'Retained'], dtype=object)"
      ]
     },
     "execution_count": 21,
     "metadata": {},
     "output_type": "execute_result"
    }
   ],
   "source": [
    "df['base_price_unit'].unique()"
   ]
  },
  {
   "cell_type": "code",
   "execution_count": 22,
   "id": "3b0283eb",
   "metadata": {
    "execution": {
     "iopub.execute_input": "2022-09-12T07:54:14.783169Z",
     "iopub.status.busy": "2022-09-12T07:54:14.782652Z",
     "iopub.status.idle": "2022-09-12T07:54:14.790870Z",
     "shell.execute_reply": "2022-09-12T07:54:14.789960Z"
    },
    "papermill": {
     "duration": 0.024606,
     "end_time": "2022-09-12T07:54:14.792621",
     "exception": false,
     "start_time": "2022-09-12T07:54:14.768015",
     "status": "completed"
    },
    "tags": []
   },
   "outputs": [
    {
     "data": {
      "text/plain": [
       "0        0\n",
       "1        0\n",
       "2      100\n",
       "3        1\n",
       "4        0\n",
       "      ... \n",
       "628      1\n",
       "629      1\n",
       "630      1\n",
       "631      1\n",
       "632      1\n",
       "Name: base_price_unit, Length: 633, dtype: object"
      ]
     },
     "execution_count": 22,
     "metadata": {},
     "output_type": "execute_result"
    }
   ],
   "source": [
    "df['base_price_unit'] = df['base_price_unit'].replace({'Cr':100,'Lakh':1,'Retained':0})\n",
    "df['base_price_unit']"
   ]
  },
  {
   "cell_type": "code",
   "execution_count": 23,
   "id": "308d9fc4",
   "metadata": {
    "execution": {
     "iopub.execute_input": "2022-09-12T07:54:14.821195Z",
     "iopub.status.busy": "2022-09-12T07:54:14.820706Z",
     "iopub.status.idle": "2022-09-12T07:54:14.826361Z",
     "shell.execute_reply": "2022-09-12T07:54:14.825354Z"
    },
    "papermill": {
     "duration": 0.023015,
     "end_time": "2022-09-12T07:54:14.828954",
     "exception": false,
     "start_time": "2022-09-12T07:54:14.805939",
     "status": "completed"
    },
    "tags": []
   },
   "outputs": [],
   "source": [
    "df['base_price'] = df['base_price'].astype(float)\n",
    "df['base_price_unit'] = df['base_price_unit'].astype(int)"
   ]
  },
  {
   "cell_type": "code",
   "execution_count": 24,
   "id": "b7a4bed1",
   "metadata": {
    "execution": {
     "iopub.execute_input": "2022-09-12T07:54:14.859507Z",
     "iopub.status.busy": "2022-09-12T07:54:14.859014Z",
     "iopub.status.idle": "2022-09-12T07:54:14.866211Z",
     "shell.execute_reply": "2022-09-12T07:54:14.865604Z"
    },
    "papermill": {
     "duration": 0.024118,
     "end_time": "2022-09-12T07:54:14.868093",
     "exception": false,
     "start_time": "2022-09-12T07:54:14.843975",
     "status": "completed"
    },
    "tags": []
   },
   "outputs": [
    {
     "data": {
      "text/plain": [
       "0        0.0\n",
       "1        0.0\n",
       "2      200.0\n",
       "3       40.0\n",
       "4        0.0\n",
       "       ...  \n",
       "628     20.0\n",
       "629     20.0\n",
       "630     20.0\n",
       "631     20.0\n",
       "632     20.0\n",
       "Name: base_price, Length: 633, dtype: float64"
      ]
     },
     "execution_count": 24,
     "metadata": {},
     "output_type": "execute_result"
    }
   ],
   "source": [
    "df['base_price'] = df['base_price']*df['base_price_unit']\n",
    "df['base_price']"
   ]
  },
  {
   "cell_type": "code",
   "execution_count": 25,
   "id": "cb4ca045",
   "metadata": {
    "execution": {
     "iopub.execute_input": "2022-09-12T07:54:14.898160Z",
     "iopub.status.busy": "2022-09-12T07:54:14.897662Z",
     "iopub.status.idle": "2022-09-12T07:54:14.911163Z",
     "shell.execute_reply": "2022-09-12T07:54:14.910567Z"
    },
    "papermill": {
     "duration": 0.030684,
     "end_time": "2022-09-12T07:54:14.912900",
     "exception": false,
     "start_time": "2022-09-12T07:54:14.882216",
     "status": "completed"
    },
    "tags": []
   },
   "outputs": [
    {
     "data": {
      "text/html": [
       "<div>\n",
       "<style scoped>\n",
       "    .dataframe tbody tr th:only-of-type {\n",
       "        vertical-align: middle;\n",
       "    }\n",
       "\n",
       "    .dataframe tbody tr th {\n",
       "        vertical-align: top;\n",
       "    }\n",
       "\n",
       "    .dataframe thead th {\n",
       "        text-align: right;\n",
       "    }\n",
       "</style>\n",
       "<table border=\"1\" class=\"dataframe\">\n",
       "  <thead>\n",
       "    <tr style=\"text-align: right;\">\n",
       "      <th></th>\n",
       "      <th>Player</th>\n",
       "      <th>Base Price</th>\n",
       "      <th>TYPE</th>\n",
       "      <th>COST IN ₹ (CR.)</th>\n",
       "      <th>Cost IN $ (000)</th>\n",
       "      <th>2021 Squad</th>\n",
       "      <th>Team</th>\n",
       "      <th>status</th>\n",
       "      <th>retention</th>\n",
       "      <th>base_price_unit</th>\n",
       "      <th>base_price</th>\n",
       "    </tr>\n",
       "  </thead>\n",
       "  <tbody>\n",
       "    <tr>\n",
       "      <th>0</th>\n",
       "      <td>Rashid Khan</td>\n",
       "      <td>0</td>\n",
       "      <td>BOWLER</td>\n",
       "      <td>15.0</td>\n",
       "      <td>1950.0</td>\n",
       "      <td>SRH</td>\n",
       "      <td>Gujarat Titans</td>\n",
       "      <td>sold</td>\n",
       "      <td>Draft Pick</td>\n",
       "      <td>0</td>\n",
       "      <td>0.0</td>\n",
       "    </tr>\n",
       "    <tr>\n",
       "      <th>1</th>\n",
       "      <td>Hardik Pandya</td>\n",
       "      <td>0</td>\n",
       "      <td>ALL-ROUNDER</td>\n",
       "      <td>15.0</td>\n",
       "      <td>1950.0</td>\n",
       "      <td>MI</td>\n",
       "      <td>Gujarat Titans</td>\n",
       "      <td>sold</td>\n",
       "      <td>Draft Pick</td>\n",
       "      <td>0</td>\n",
       "      <td>0.0</td>\n",
       "    </tr>\n",
       "    <tr>\n",
       "      <th>2</th>\n",
       "      <td>Lockie Ferguson</td>\n",
       "      <td>2 Cr</td>\n",
       "      <td>BOWLER</td>\n",
       "      <td>10.0</td>\n",
       "      <td>1300.0</td>\n",
       "      <td>KKR</td>\n",
       "      <td>Gujarat Titans</td>\n",
       "      <td>sold</td>\n",
       "      <td>In Auction</td>\n",
       "      <td>100</td>\n",
       "      <td>200.0</td>\n",
       "    </tr>\n",
       "    <tr>\n",
       "      <th>3</th>\n",
       "      <td>Rahul Tewatia</td>\n",
       "      <td>40 Lakh</td>\n",
       "      <td>ALL-ROUNDER</td>\n",
       "      <td>9.0</td>\n",
       "      <td>1170.0</td>\n",
       "      <td>RR</td>\n",
       "      <td>Gujarat Titans</td>\n",
       "      <td>sold</td>\n",
       "      <td>In Auction</td>\n",
       "      <td>1</td>\n",
       "      <td>40.0</td>\n",
       "    </tr>\n",
       "    <tr>\n",
       "      <th>4</th>\n",
       "      <td>Shubman Gill</td>\n",
       "      <td>0</td>\n",
       "      <td>BATTER</td>\n",
       "      <td>8.0</td>\n",
       "      <td>1040.0</td>\n",
       "      <td>KKR</td>\n",
       "      <td>Gujarat Titans</td>\n",
       "      <td>sold</td>\n",
       "      <td>Draft Pick</td>\n",
       "      <td>0</td>\n",
       "      <td>0.0</td>\n",
       "    </tr>\n",
       "  </tbody>\n",
       "</table>\n",
       "</div>"
      ],
      "text/plain": [
       "            Player Base Price         TYPE  COST IN ₹ (CR.)  Cost IN $ (000)  \\\n",
       "0      Rashid Khan          0       BOWLER             15.0           1950.0   \n",
       "1    Hardik Pandya          0  ALL-ROUNDER             15.0           1950.0   \n",
       "2  Lockie Ferguson       2 Cr       BOWLER             10.0           1300.0   \n",
       "3    Rahul Tewatia    40 Lakh  ALL-ROUNDER              9.0           1170.0   \n",
       "4     Shubman Gill          0       BATTER              8.0           1040.0   \n",
       "\n",
       "  2021 Squad            Team status   retention  base_price_unit  base_price  \n",
       "0        SRH  Gujarat Titans   sold  Draft Pick                0         0.0  \n",
       "1         MI  Gujarat Titans   sold  Draft Pick                0         0.0  \n",
       "2        KKR  Gujarat Titans   sold  In Auction              100       200.0  \n",
       "3         RR  Gujarat Titans   sold  In Auction                1        40.0  \n",
       "4        KKR  Gujarat Titans   sold  Draft Pick                0         0.0  "
      ]
     },
     "execution_count": 25,
     "metadata": {},
     "output_type": "execute_result"
    }
   ],
   "source": [
    "df.head()"
   ]
  },
  {
   "cell_type": "code",
   "execution_count": 26,
   "id": "872f6af4",
   "metadata": {
    "execution": {
     "iopub.execute_input": "2022-09-12T07:54:14.943657Z",
     "iopub.status.busy": "2022-09-12T07:54:14.943163Z",
     "iopub.status.idle": "2022-09-12T07:54:14.948789Z",
     "shell.execute_reply": "2022-09-12T07:54:14.947820Z"
    },
    "papermill": {
     "duration": 0.023644,
     "end_time": "2022-09-12T07:54:14.951016",
     "exception": false,
     "start_time": "2022-09-12T07:54:14.927372",
     "status": "completed"
    },
    "tags": []
   },
   "outputs": [],
   "source": [
    "df.drop(['Base Price','base_price_unit'], axis =1, inplace = True)"
   ]
  },
  {
   "cell_type": "code",
   "execution_count": 27,
   "id": "6b0c254a",
   "metadata": {
    "execution": {
     "iopub.execute_input": "2022-09-12T07:54:14.981011Z",
     "iopub.status.busy": "2022-09-12T07:54:14.980479Z",
     "iopub.status.idle": "2022-09-12T07:54:14.994820Z",
     "shell.execute_reply": "2022-09-12T07:54:14.993487Z"
    },
    "papermill": {
     "duration": 0.032112,
     "end_time": "2022-09-12T07:54:14.997334",
     "exception": false,
     "start_time": "2022-09-12T07:54:14.965222",
     "status": "completed"
    },
    "tags": []
   },
   "outputs": [
    {
     "data": {
      "text/html": [
       "<div>\n",
       "<style scoped>\n",
       "    .dataframe tbody tr th:only-of-type {\n",
       "        vertical-align: middle;\n",
       "    }\n",
       "\n",
       "    .dataframe tbody tr th {\n",
       "        vertical-align: top;\n",
       "    }\n",
       "\n",
       "    .dataframe thead th {\n",
       "        text-align: right;\n",
       "    }\n",
       "</style>\n",
       "<table border=\"1\" class=\"dataframe\">\n",
       "  <thead>\n",
       "    <tr style=\"text-align: right;\">\n",
       "      <th></th>\n",
       "      <th>Player</th>\n",
       "      <th>TYPE</th>\n",
       "      <th>COST IN ₹ (CR.)</th>\n",
       "      <th>Cost IN $ (000)</th>\n",
       "      <th>2021 Squad</th>\n",
       "      <th>Team</th>\n",
       "      <th>status</th>\n",
       "      <th>retention</th>\n",
       "      <th>base_price</th>\n",
       "    </tr>\n",
       "  </thead>\n",
       "  <tbody>\n",
       "    <tr>\n",
       "      <th>0</th>\n",
       "      <td>Rashid Khan</td>\n",
       "      <td>BOWLER</td>\n",
       "      <td>15.0</td>\n",
       "      <td>1950.0</td>\n",
       "      <td>SRH</td>\n",
       "      <td>Gujarat Titans</td>\n",
       "      <td>sold</td>\n",
       "      <td>Draft Pick</td>\n",
       "      <td>0.0</td>\n",
       "    </tr>\n",
       "    <tr>\n",
       "      <th>1</th>\n",
       "      <td>Hardik Pandya</td>\n",
       "      <td>ALL-ROUNDER</td>\n",
       "      <td>15.0</td>\n",
       "      <td>1950.0</td>\n",
       "      <td>MI</td>\n",
       "      <td>Gujarat Titans</td>\n",
       "      <td>sold</td>\n",
       "      <td>Draft Pick</td>\n",
       "      <td>0.0</td>\n",
       "    </tr>\n",
       "    <tr>\n",
       "      <th>2</th>\n",
       "      <td>Lockie Ferguson</td>\n",
       "      <td>BOWLER</td>\n",
       "      <td>10.0</td>\n",
       "      <td>1300.0</td>\n",
       "      <td>KKR</td>\n",
       "      <td>Gujarat Titans</td>\n",
       "      <td>sold</td>\n",
       "      <td>In Auction</td>\n",
       "      <td>200.0</td>\n",
       "    </tr>\n",
       "    <tr>\n",
       "      <th>3</th>\n",
       "      <td>Rahul Tewatia</td>\n",
       "      <td>ALL-ROUNDER</td>\n",
       "      <td>9.0</td>\n",
       "      <td>1170.0</td>\n",
       "      <td>RR</td>\n",
       "      <td>Gujarat Titans</td>\n",
       "      <td>sold</td>\n",
       "      <td>In Auction</td>\n",
       "      <td>40.0</td>\n",
       "    </tr>\n",
       "    <tr>\n",
       "      <th>4</th>\n",
       "      <td>Shubman Gill</td>\n",
       "      <td>BATTER</td>\n",
       "      <td>8.0</td>\n",
       "      <td>1040.0</td>\n",
       "      <td>KKR</td>\n",
       "      <td>Gujarat Titans</td>\n",
       "      <td>sold</td>\n",
       "      <td>Draft Pick</td>\n",
       "      <td>0.0</td>\n",
       "    </tr>\n",
       "  </tbody>\n",
       "</table>\n",
       "</div>"
      ],
      "text/plain": [
       "            Player         TYPE  COST IN ₹ (CR.)  Cost IN $ (000) 2021 Squad  \\\n",
       "0      Rashid Khan       BOWLER             15.0           1950.0        SRH   \n",
       "1    Hardik Pandya  ALL-ROUNDER             15.0           1950.0         MI   \n",
       "2  Lockie Ferguson       BOWLER             10.0           1300.0        KKR   \n",
       "3    Rahul Tewatia  ALL-ROUNDER              9.0           1170.0         RR   \n",
       "4     Shubman Gill       BATTER              8.0           1040.0        KKR   \n",
       "\n",
       "             Team status   retention  base_price  \n",
       "0  Gujarat Titans   sold  Draft Pick         0.0  \n",
       "1  Gujarat Titans   sold  Draft Pick         0.0  \n",
       "2  Gujarat Titans   sold  In Auction       200.0  \n",
       "3  Gujarat Titans   sold  In Auction        40.0  \n",
       "4  Gujarat Titans   sold  Draft Pick         0.0  "
      ]
     },
     "execution_count": 27,
     "metadata": {},
     "output_type": "execute_result"
    }
   ],
   "source": [
    "df.head()"
   ]
  },
  {
   "cell_type": "code",
   "execution_count": 28,
   "id": "f9b1341f",
   "metadata": {
    "execution": {
     "iopub.execute_input": "2022-09-12T07:54:15.028078Z",
     "iopub.status.busy": "2022-09-12T07:54:15.027724Z",
     "iopub.status.idle": "2022-09-12T07:54:15.037920Z",
     "shell.execute_reply": "2022-09-12T07:54:15.036587Z"
    },
    "papermill": {
     "duration": 0.028263,
     "end_time": "2022-09-12T07:54:15.040061",
     "exception": false,
     "start_time": "2022-09-12T07:54:15.011798",
     "status": "completed"
    },
    "tags": []
   },
   "outputs": [
    {
     "data": {
      "text/plain": [
       "0      1500.0\n",
       "1      1500.0\n",
       "2      1000.0\n",
       "3       900.0\n",
       "4       800.0\n",
       "        ...  \n",
       "628       0.0\n",
       "629       0.0\n",
       "630       0.0\n",
       "631       0.0\n",
       "632       0.0\n",
       "Name: COST IN ₹ (CR.), Length: 633, dtype: float64"
      ]
     },
     "execution_count": 28,
     "metadata": {},
     "output_type": "execute_result"
    }
   ],
   "source": [
    "df['COST IN ₹ (CR.)'] = df['COST IN ₹ (CR.)']*100\n",
    "df['COST IN ₹ (CR.)']"
   ]
  },
  {
   "cell_type": "code",
   "execution_count": 29,
   "id": "73ff92f3",
   "metadata": {
    "execution": {
     "iopub.execute_input": "2022-09-12T07:54:15.071689Z",
     "iopub.status.busy": "2022-09-12T07:54:15.071335Z",
     "iopub.status.idle": "2022-09-12T07:54:15.076369Z",
     "shell.execute_reply": "2022-09-12T07:54:15.075598Z"
    },
    "papermill": {
     "duration": 0.022502,
     "end_time": "2022-09-12T07:54:15.078101",
     "exception": false,
     "start_time": "2022-09-12T07:54:15.055599",
     "status": "completed"
    },
    "tags": []
   },
   "outputs": [],
   "source": [
    "df = df.rename(columns={'TYPE':'Type','COST IN ₹ (CR.)':'Sold_for_lakh','Cost IN $ (000)':'Cost_in_dollars','2021 Squad':'Prev_team','Team':'Curr_team'})"
   ]
  },
  {
   "cell_type": "code",
   "execution_count": 30,
   "id": "a00be45e",
   "metadata": {
    "execution": {
     "iopub.execute_input": "2022-09-12T07:54:15.109394Z",
     "iopub.status.busy": "2022-09-12T07:54:15.108167Z",
     "iopub.status.idle": "2022-09-12T07:54:15.123206Z",
     "shell.execute_reply": "2022-09-12T07:54:15.122254Z"
    },
    "papermill": {
     "duration": 0.032344,
     "end_time": "2022-09-12T07:54:15.124950",
     "exception": false,
     "start_time": "2022-09-12T07:54:15.092606",
     "status": "completed"
    },
    "tags": []
   },
   "outputs": [
    {
     "data": {
      "text/html": [
       "<div>\n",
       "<style scoped>\n",
       "    .dataframe tbody tr th:only-of-type {\n",
       "        vertical-align: middle;\n",
       "    }\n",
       "\n",
       "    .dataframe tbody tr th {\n",
       "        vertical-align: top;\n",
       "    }\n",
       "\n",
       "    .dataframe thead th {\n",
       "        text-align: right;\n",
       "    }\n",
       "</style>\n",
       "<table border=\"1\" class=\"dataframe\">\n",
       "  <thead>\n",
       "    <tr style=\"text-align: right;\">\n",
       "      <th></th>\n",
       "      <th>Player</th>\n",
       "      <th>Type</th>\n",
       "      <th>Sold_for_lakh</th>\n",
       "      <th>Cost_in_dollars</th>\n",
       "      <th>Prev_team</th>\n",
       "      <th>Curr_team</th>\n",
       "      <th>status</th>\n",
       "      <th>retention</th>\n",
       "      <th>base_price</th>\n",
       "    </tr>\n",
       "  </thead>\n",
       "  <tbody>\n",
       "    <tr>\n",
       "      <th>0</th>\n",
       "      <td>Rashid Khan</td>\n",
       "      <td>BOWLER</td>\n",
       "      <td>1500.0</td>\n",
       "      <td>1950.0</td>\n",
       "      <td>SRH</td>\n",
       "      <td>Gujarat Titans</td>\n",
       "      <td>sold</td>\n",
       "      <td>Draft Pick</td>\n",
       "      <td>0.0</td>\n",
       "    </tr>\n",
       "    <tr>\n",
       "      <th>1</th>\n",
       "      <td>Hardik Pandya</td>\n",
       "      <td>ALL-ROUNDER</td>\n",
       "      <td>1500.0</td>\n",
       "      <td>1950.0</td>\n",
       "      <td>MI</td>\n",
       "      <td>Gujarat Titans</td>\n",
       "      <td>sold</td>\n",
       "      <td>Draft Pick</td>\n",
       "      <td>0.0</td>\n",
       "    </tr>\n",
       "    <tr>\n",
       "      <th>2</th>\n",
       "      <td>Lockie Ferguson</td>\n",
       "      <td>BOWLER</td>\n",
       "      <td>1000.0</td>\n",
       "      <td>1300.0</td>\n",
       "      <td>KKR</td>\n",
       "      <td>Gujarat Titans</td>\n",
       "      <td>sold</td>\n",
       "      <td>In Auction</td>\n",
       "      <td>200.0</td>\n",
       "    </tr>\n",
       "    <tr>\n",
       "      <th>3</th>\n",
       "      <td>Rahul Tewatia</td>\n",
       "      <td>ALL-ROUNDER</td>\n",
       "      <td>900.0</td>\n",
       "      <td>1170.0</td>\n",
       "      <td>RR</td>\n",
       "      <td>Gujarat Titans</td>\n",
       "      <td>sold</td>\n",
       "      <td>In Auction</td>\n",
       "      <td>40.0</td>\n",
       "    </tr>\n",
       "    <tr>\n",
       "      <th>4</th>\n",
       "      <td>Shubman Gill</td>\n",
       "      <td>BATTER</td>\n",
       "      <td>800.0</td>\n",
       "      <td>1040.0</td>\n",
       "      <td>KKR</td>\n",
       "      <td>Gujarat Titans</td>\n",
       "      <td>sold</td>\n",
       "      <td>Draft Pick</td>\n",
       "      <td>0.0</td>\n",
       "    </tr>\n",
       "  </tbody>\n",
       "</table>\n",
       "</div>"
      ],
      "text/plain": [
       "            Player         Type  Sold_for_lakh  Cost_in_dollars Prev_team  \\\n",
       "0      Rashid Khan       BOWLER         1500.0           1950.0       SRH   \n",
       "1    Hardik Pandya  ALL-ROUNDER         1500.0           1950.0        MI   \n",
       "2  Lockie Ferguson       BOWLER         1000.0           1300.0       KKR   \n",
       "3    Rahul Tewatia  ALL-ROUNDER          900.0           1170.0        RR   \n",
       "4     Shubman Gill       BATTER          800.0           1040.0       KKR   \n",
       "\n",
       "        Curr_team status   retention  base_price  \n",
       "0  Gujarat Titans   sold  Draft Pick         0.0  \n",
       "1  Gujarat Titans   sold  Draft Pick         0.0  \n",
       "2  Gujarat Titans   sold  In Auction       200.0  \n",
       "3  Gujarat Titans   sold  In Auction        40.0  \n",
       "4  Gujarat Titans   sold  Draft Pick         0.0  "
      ]
     },
     "execution_count": 30,
     "metadata": {},
     "output_type": "execute_result"
    }
   ],
   "source": [
    "df.head()"
   ]
  },
  {
   "cell_type": "code",
   "execution_count": 31,
   "id": "338c180e",
   "metadata": {
    "execution": {
     "iopub.execute_input": "2022-09-12T07:54:15.156445Z",
     "iopub.status.busy": "2022-09-12T07:54:15.156125Z",
     "iopub.status.idle": "2022-09-12T07:54:15.173282Z",
     "shell.execute_reply": "2022-09-12T07:54:15.172359Z"
    },
    "papermill": {
     "duration": 0.035039,
     "end_time": "2022-09-12T07:54:15.175026",
     "exception": false,
     "start_time": "2022-09-12T07:54:15.139987",
     "status": "completed"
    },
    "tags": []
   },
   "outputs": [
    {
     "data": {
      "text/html": [
       "<div>\n",
       "<style scoped>\n",
       "    .dataframe tbody tr th:only-of-type {\n",
       "        vertical-align: middle;\n",
       "    }\n",
       "\n",
       "    .dataframe tbody tr th {\n",
       "        vertical-align: top;\n",
       "    }\n",
       "\n",
       "    .dataframe thead th {\n",
       "        text-align: right;\n",
       "    }\n",
       "</style>\n",
       "<table border=\"1\" class=\"dataframe\">\n",
       "  <thead>\n",
       "    <tr style=\"text-align: right;\">\n",
       "      <th></th>\n",
       "      <th>Player</th>\n",
       "      <th>Type</th>\n",
       "      <th>Sold_for_lakh</th>\n",
       "      <th>Cost_in_dollars</th>\n",
       "      <th>Prev_team</th>\n",
       "      <th>Curr_team</th>\n",
       "      <th>status</th>\n",
       "      <th>retention</th>\n",
       "      <th>base_price</th>\n",
       "    </tr>\n",
       "  </thead>\n",
       "  <tbody>\n",
       "    <tr>\n",
       "      <th>62</th>\n",
       "      <td>Lalit Yadav</td>\n",
       "      <td>ALL-ROUNDER</td>\n",
       "      <td>65.0</td>\n",
       "      <td>84.5</td>\n",
       "      <td>DC</td>\n",
       "      <td>Delhi Capitals</td>\n",
       "      <td>sold</td>\n",
       "      <td>In Auction</td>\n",
       "      <td>20.0</td>\n",
       "    </tr>\n",
       "    <tr>\n",
       "      <th>240</th>\n",
       "      <td>Amit Mishra</td>\n",
       "      <td>BOWLER</td>\n",
       "      <td>0.0</td>\n",
       "      <td>0.0</td>\n",
       "      <td>DC</td>\n",
       "      <td>Unsold</td>\n",
       "      <td>Unsold</td>\n",
       "      <td>In Auction</td>\n",
       "      <td>150.0</td>\n",
       "    </tr>\n",
       "    <tr>\n",
       "      <th>499</th>\n",
       "      <td>Amit Mishra</td>\n",
       "      <td>BOWLER</td>\n",
       "      <td>0.0</td>\n",
       "      <td>0.0</td>\n",
       "      <td>Not Participated in IPL 2021</td>\n",
       "      <td>Unsold</td>\n",
       "      <td>Unsold</td>\n",
       "      <td>In Auction</td>\n",
       "      <td>20.0</td>\n",
       "    </tr>\n",
       "    <tr>\n",
       "      <th>518</th>\n",
       "      <td>Shivam Sharma</td>\n",
       "      <td>ALL-ROUNDER</td>\n",
       "      <td>0.0</td>\n",
       "      <td>0.0</td>\n",
       "      <td>Not Participated in IPL 2021</td>\n",
       "      <td>Unsold</td>\n",
       "      <td>Unsold</td>\n",
       "      <td>In Auction</td>\n",
       "      <td>20.0</td>\n",
       "    </tr>\n",
       "    <tr>\n",
       "      <th>530</th>\n",
       "      <td>Lalit Yadav</td>\n",
       "      <td>BOWLER</td>\n",
       "      <td>0.0</td>\n",
       "      <td>0.0</td>\n",
       "      <td>Not Participated in IPL 2021</td>\n",
       "      <td>Unsold</td>\n",
       "      <td>Unsold</td>\n",
       "      <td>In Auction</td>\n",
       "      <td>20.0</td>\n",
       "    </tr>\n",
       "    <tr>\n",
       "      <th>537</th>\n",
       "      <td>Shubham Singh</td>\n",
       "      <td>ALL-ROUNDER</td>\n",
       "      <td>0.0</td>\n",
       "      <td>0.0</td>\n",
       "      <td>Not Participated in IPL 2021</td>\n",
       "      <td>Unsold</td>\n",
       "      <td>Unsold</td>\n",
       "      <td>In Auction</td>\n",
       "      <td>20.0</td>\n",
       "    </tr>\n",
       "    <tr>\n",
       "      <th>544</th>\n",
       "      <td>Shubham Singh</td>\n",
       "      <td>BOWLER</td>\n",
       "      <td>0.0</td>\n",
       "      <td>0.0</td>\n",
       "      <td>Not Participated in IPL 2021</td>\n",
       "      <td>Unsold</td>\n",
       "      <td>Unsold</td>\n",
       "      <td>In Auction</td>\n",
       "      <td>20.0</td>\n",
       "    </tr>\n",
       "    <tr>\n",
       "      <th>569</th>\n",
       "      <td>Shivam Sharma</td>\n",
       "      <td>ALL-ROUNDER</td>\n",
       "      <td>0.0</td>\n",
       "      <td>0.0</td>\n",
       "      <td>Not Participated in IPL 2021</td>\n",
       "      <td>Unsold</td>\n",
       "      <td>Unsold</td>\n",
       "      <td>In Auction</td>\n",
       "      <td>20.0</td>\n",
       "    </tr>\n",
       "  </tbody>\n",
       "</table>\n",
       "</div>"
      ],
      "text/plain": [
       "            Player         Type  Sold_for_lakh  Cost_in_dollars  \\\n",
       "62     Lalit Yadav  ALL-ROUNDER           65.0             84.5   \n",
       "240    Amit Mishra       BOWLER            0.0              0.0   \n",
       "499    Amit Mishra       BOWLER            0.0              0.0   \n",
       "518  Shivam Sharma  ALL-ROUNDER            0.0              0.0   \n",
       "530    Lalit Yadav       BOWLER            0.0              0.0   \n",
       "537  Shubham Singh  ALL-ROUNDER            0.0              0.0   \n",
       "544  Shubham Singh       BOWLER            0.0              0.0   \n",
       "569  Shivam Sharma  ALL-ROUNDER            0.0              0.0   \n",
       "\n",
       "                        Prev_team       Curr_team  status   retention  \\\n",
       "62                             DC  Delhi Capitals    sold  In Auction   \n",
       "240                            DC          Unsold  Unsold  In Auction   \n",
       "499  Not Participated in IPL 2021          Unsold  Unsold  In Auction   \n",
       "518  Not Participated in IPL 2021          Unsold  Unsold  In Auction   \n",
       "530  Not Participated in IPL 2021          Unsold  Unsold  In Auction   \n",
       "537  Not Participated in IPL 2021          Unsold  Unsold  In Auction   \n",
       "544  Not Participated in IPL 2021          Unsold  Unsold  In Auction   \n",
       "569  Not Participated in IPL 2021          Unsold  Unsold  In Auction   \n",
       "\n",
       "     base_price  \n",
       "62         20.0  \n",
       "240       150.0  \n",
       "499        20.0  \n",
       "518        20.0  \n",
       "530        20.0  \n",
       "537        20.0  \n",
       "544        20.0  \n",
       "569        20.0  "
      ]
     },
     "execution_count": 31,
     "metadata": {},
     "output_type": "execute_result"
    }
   ],
   "source": [
    "# We will Check Duplicate Players\n",
    "df[df['Player'].duplicated(keep=False)]"
   ]
  },
  {
   "cell_type": "code",
   "execution_count": 32,
   "id": "7273eb36",
   "metadata": {
    "execution": {
     "iopub.execute_input": "2022-09-12T07:54:15.206589Z",
     "iopub.status.busy": "2022-09-12T07:54:15.205956Z",
     "iopub.status.idle": "2022-09-12T07:54:15.210411Z",
     "shell.execute_reply": "2022-09-12T07:54:15.209330Z"
    },
    "papermill": {
     "duration": 0.022818,
     "end_time": "2022-09-12T07:54:15.212701",
     "exception": false,
     "start_time": "2022-09-12T07:54:15.189883",
     "status": "completed"
    },
    "tags": []
   },
   "outputs": [],
   "source": [
    "# There are duplicate rows but the fact is that the names of players are same but the Players are different"
   ]
  },
  {
   "cell_type": "markdown",
   "id": "5cbb1e79",
   "metadata": {
    "papermill": {
     "duration": 0.014596,
     "end_time": "2022-09-12T07:54:15.242411",
     "exception": false,
     "start_time": "2022-09-12T07:54:15.227815",
     "status": "completed"
    },
    "tags": []
   },
   "source": [
    "# ********************* DATA ANALYSIS*********************"
   ]
  },
  {
   "cell_type": "code",
   "execution_count": 33,
   "id": "a6883e0c",
   "metadata": {
    "execution": {
     "iopub.execute_input": "2022-09-12T07:54:15.273143Z",
     "iopub.status.busy": "2022-09-12T07:54:15.272538Z",
     "iopub.status.idle": "2022-09-12T07:54:15.278260Z",
     "shell.execute_reply": "2022-09-12T07:54:15.277615Z"
    },
    "papermill": {
     "duration": 0.02331,
     "end_time": "2022-09-12T07:54:15.280080",
     "exception": false,
     "start_time": "2022-09-12T07:54:15.256770",
     "status": "completed"
    },
    "tags": []
   },
   "outputs": [
    {
     "data": {
      "text/plain": [
       "633"
      ]
     },
     "execution_count": 33,
     "metadata": {},
     "output_type": "execute_result"
    }
   ],
   "source": [
    "# 1. How many players participated in the Auction 2022 ?\n",
    "\n",
    "df.shape[0]"
   ]
  },
  {
   "cell_type": "code",
   "execution_count": 34,
   "id": "fa0d96be",
   "metadata": {
    "execution": {
     "iopub.execute_input": "2022-09-12T07:54:15.311528Z",
     "iopub.status.busy": "2022-09-12T07:54:15.310964Z",
     "iopub.status.idle": "2022-09-12T07:54:15.322348Z",
     "shell.execute_reply": "2022-09-12T07:54:15.320964Z"
    },
    "papermill": {
     "duration": 0.030011,
     "end_time": "2022-09-12T07:54:15.324853",
     "exception": false,
     "start_time": "2022-09-12T07:54:15.294842",
     "status": "completed"
    },
    "tags": []
   },
   "outputs": [
    {
     "data": {
      "text/html": [
       "<div>\n",
       "<style scoped>\n",
       "    .dataframe tbody tr th:only-of-type {\n",
       "        vertical-align: middle;\n",
       "    }\n",
       "\n",
       "    .dataframe tbody tr th {\n",
       "        vertical-align: top;\n",
       "    }\n",
       "\n",
       "    .dataframe thead th {\n",
       "        text-align: right;\n",
       "    }\n",
       "</style>\n",
       "<table border=\"1\" class=\"dataframe\">\n",
       "  <thead>\n",
       "    <tr style=\"text-align: right;\">\n",
       "      <th></th>\n",
       "      <th>index</th>\n",
       "      <th>Type</th>\n",
       "    </tr>\n",
       "  </thead>\n",
       "  <tbody>\n",
       "    <tr>\n",
       "      <th>0</th>\n",
       "      <td>ALL-ROUNDER</td>\n",
       "      <td>242</td>\n",
       "    </tr>\n",
       "    <tr>\n",
       "      <th>1</th>\n",
       "      <td>BOWLER</td>\n",
       "      <td>215</td>\n",
       "    </tr>\n",
       "    <tr>\n",
       "      <th>2</th>\n",
       "      <td>BATTER</td>\n",
       "      <td>112</td>\n",
       "    </tr>\n",
       "    <tr>\n",
       "      <th>3</th>\n",
       "      <td>WICKETKEEPER</td>\n",
       "      <td>64</td>\n",
       "    </tr>\n",
       "  </tbody>\n",
       "</table>\n",
       "</div>"
      ],
      "text/plain": [
       "          index  Type\n",
       "0   ALL-ROUNDER   242\n",
       "1        BOWLER   215\n",
       "2        BATTER   112\n",
       "3  WICKETKEEPER    64"
      ]
     },
     "execution_count": 34,
     "metadata": {},
     "output_type": "execute_result"
    }
   ],
   "source": [
    "# 2. Participation based on the Role(Batsman, Bowlers, Allrounders and WK)\n",
    "\n",
    "type = df['Type'].value_counts()\n",
    "type.reset_index()"
   ]
  },
  {
   "cell_type": "code",
   "execution_count": 35,
   "id": "8293e7bf",
   "metadata": {
    "execution": {
     "iopub.execute_input": "2022-09-12T07:54:15.357415Z",
     "iopub.status.busy": "2022-09-12T07:54:15.357090Z",
     "iopub.status.idle": "2022-09-12T07:54:15.507364Z",
     "shell.execute_reply": "2022-09-12T07:54:15.506567Z"
    },
    "papermill": {
     "duration": 0.1688,
     "end_time": "2022-09-12T07:54:15.509595",
     "exception": false,
     "start_time": "2022-09-12T07:54:15.340795",
     "status": "completed"
    },
    "tags": []
   },
   "outputs": [
    {
     "data": {
      "text/plain": [
       "[]"
      ]
     },
     "execution_count": 35,
     "metadata": {},
     "output_type": "execute_result"
    },
    {
     "data": {
      "image/png": "[encoded data removed]",
      "text/plain": [
       "<Figure size 640x480 with 1 Axes>"
      ]
     },
     "metadata": {},
     "output_type": "display_data"
    }
   ],
   "source": [
    "plt.pie(type.values, labels=type.index,labeldistance=1.2,autopct='%1.2f%%')\n",
    "plt.title('Role of Players Participated', fontsize = 15)\n",
    "plt.plot()"
   ]
  },
  {
   "cell_type": "code",
   "execution_count": 36,
   "id": "305dffe1",
   "metadata": {
    "execution": {
     "iopub.execute_input": "2022-09-12T07:54:15.555355Z",
     "iopub.status.busy": "2022-09-12T07:54:15.554437Z",
     "iopub.status.idle": "2022-09-12T07:54:15.705591Z",
     "shell.execute_reply": "2022-09-12T07:54:15.704781Z"
    },
    "papermill": {
     "duration": 0.175904,
     "end_time": "2022-09-12T07:54:15.708082",
     "exception": false,
     "start_time": "2022-09-12T07:54:15.532178",
     "status": "completed"
    },
    "tags": []
   },
   "outputs": [
    {
     "data": {
      "image/png": "[encoded data removed]",
      "text/plain": [
       "<Figure size 500x500 with 1 Axes>"
      ]
     },
     "metadata": {},
     "output_type": "display_data"
    }
   ],
   "source": [
    "# 3. How many Players Were Sold in IPL 2022 Auctions ?\n",
    "status_list = df['status'].tolist()\n",
    "plt.figure(figsize=(5, 5))\n",
    "sns.countplot(data=df, x='status', palette=['Green', 'Red'])\n",
    "plt.xlabel('Sold or Unsold')\n",
    "plt.ylabel('Number of Players')\n",
    "plt.title('Sold vs Unsold', fontsize=15)\n",
    "plt.show()"
   ]
  },
  {
   "cell_type": "code",
   "execution_count": 37,
   "id": "afa50d83",
   "metadata": {
    "execution": {
     "iopub.execute_input": "2022-09-12T07:54:15.744797Z",
     "iopub.status.busy": "2022-09-12T07:54:15.743712Z",
     "iopub.status.idle": "2022-09-12T07:54:15.979812Z",
     "shell.execute_reply": "2022-09-12T07:54:15.978295Z"
    },
    "papermill": {
     "duration": 0.255991,
     "end_time": "2022-09-12T07:54:15.982323",
     "exception": false,
     "start_time": "2022-09-12T07:54:15.726332",
     "status": "completed"
    },
    "tags": []
   },
   "outputs": [
    {
     "data": {
      "image/png": "[encoded data removed]",
      "text/plain": [
       "<Figure size 2000x1000 with 1 Axes>"
      ]
     },
     "metadata": {},
     "output_type": "display_data"
    }
   ],
   "source": [
    "# 4. How many Players Brought by Each Team\n",
    "filtered_df = df[df['Curr_team'] != 'Unsold']\n",
    "plt.figure(figsize=(20, 10))\n",
    "sns.countplot(data=filtered_df, x='Curr_team', palette='viridis')\n",
    "plt.xlabel('Name of Team')\n",
    "plt.ylabel('Number of Players')\n",
    "plt.title('Players Brought by each Team', fontsize=15)\n",
    "plt.xticks(rotation=90)\n",
    "plt.show()"
   ]
  },
  {
   "cell_type": "code",
   "execution_count": 38,
   "id": "344bb248",
   "metadata": {
    "execution": {
     "iopub.execute_input": "2022-09-12T07:54:16.017077Z",
     "iopub.status.busy": "2022-09-12T07:54:16.015998Z",
     "iopub.status.idle": "2022-09-12T07:54:16.027665Z",
     "shell.execute_reply": "2022-09-12T07:54:16.026720Z"
    },
    "papermill": {
     "duration": 0.03054,
     "end_time": "2022-09-12T07:54:16.029800",
     "exception": false,
     "start_time": "2022-09-12T07:54:15.999260",
     "status": "completed"
    },
    "tags": []
   },
   "outputs": [
    {
     "data": {
      "text/plain": [
       "Curr_team                    retention \n",
       "Chennai Super Kings          In Auction    21\n",
       "                             Retained       4\n",
       "Delhi Capitals               In Auction    20\n",
       "                             Retained       4\n",
       "Gujarat Titans               Draft Pick     3\n",
       "                             In Auction    19\n",
       "Kolkata Knight Riders        In Auction    21\n",
       "                             Retained       4\n",
       "Lucknow Super Giants         Draft Pick     3\n",
       "                             In Auction    19\n",
       "Mumbai Indians               In Auction    21\n",
       "                             Retained       4\n",
       "Punjab Kings                 In Auction    23\n",
       "                             Retained       2\n",
       "Rajasthan Royals             In Auction    21\n",
       "                             Retained       3\n",
       "Royal Challengers Bangalore  In Auction    19\n",
       "                             Retained       3\n",
       "Sunrisers Hyderabad          In Auction    20\n",
       "                             Retained       3\n",
       "Name: retention, dtype: int64"
      ]
     },
     "execution_count": 38,
     "metadata": {},
     "output_type": "execute_result"
    }
   ],
   "source": [
    "# 5. How many players Retained/DraftPicked by Each team ?\n",
    "\n",
    "df.groupby(['Curr_team','retention'])['retention'].count()[:-1]"
   ]
  },
  {
   "cell_type": "code",
   "execution_count": 39,
   "id": "a5772fee",
   "metadata": {
    "execution": {
     "iopub.execute_input": "2022-09-12T07:54:16.064018Z",
     "iopub.status.busy": "2022-09-12T07:54:16.063363Z",
     "iopub.status.idle": "2022-09-12T07:54:16.075925Z",
     "shell.execute_reply": "2022-09-12T07:54:16.074049Z"
    },
    "papermill": {
     "duration": 0.032363,
     "end_time": "2022-09-12T07:54:16.078271",
     "exception": false,
     "start_time": "2022-09-12T07:54:16.045908",
     "status": "completed"
    },
    "tags": []
   },
   "outputs": [
    {
     "data": {
      "text/html": [
       "<div>\n",
       "<style scoped>\n",
       "    .dataframe tbody tr th:only-of-type {\n",
       "        vertical-align: middle;\n",
       "    }\n",
       "\n",
       "    .dataframe tbody tr th {\n",
       "        vertical-align: top;\n",
       "    }\n",
       "\n",
       "    .dataframe thead th {\n",
       "        text-align: right;\n",
       "    }\n",
       "</style>\n",
       "<table border=\"1\" class=\"dataframe\">\n",
       "  <thead>\n",
       "    <tr style=\"text-align: right;\">\n",
       "      <th></th>\n",
       "      <th>Type</th>\n",
       "      <th>status</th>\n",
       "      <th>Player</th>\n",
       "    </tr>\n",
       "  </thead>\n",
       "  <tbody>\n",
       "    <tr>\n",
       "      <th>0</th>\n",
       "      <td>ALL-ROUNDER</td>\n",
       "      <td>Unsold</td>\n",
       "      <td>154</td>\n",
       "    </tr>\n",
       "    <tr>\n",
       "      <th>1</th>\n",
       "      <td>ALL-ROUNDER</td>\n",
       "      <td>sold</td>\n",
       "      <td>88</td>\n",
       "    </tr>\n",
       "    <tr>\n",
       "      <th>2</th>\n",
       "      <td>BATTER</td>\n",
       "      <td>Unsold</td>\n",
       "      <td>67</td>\n",
       "    </tr>\n",
       "    <tr>\n",
       "      <th>3</th>\n",
       "      <td>BATTER</td>\n",
       "      <td>sold</td>\n",
       "      <td>45</td>\n",
       "    </tr>\n",
       "    <tr>\n",
       "      <th>4</th>\n",
       "      <td>BOWLER</td>\n",
       "      <td>Unsold</td>\n",
       "      <td>138</td>\n",
       "    </tr>\n",
       "    <tr>\n",
       "      <th>5</th>\n",
       "      <td>BOWLER</td>\n",
       "      <td>sold</td>\n",
       "      <td>77</td>\n",
       "    </tr>\n",
       "    <tr>\n",
       "      <th>6</th>\n",
       "      <td>WICKETKEEPER</td>\n",
       "      <td>Unsold</td>\n",
       "      <td>37</td>\n",
       "    </tr>\n",
       "    <tr>\n",
       "      <th>7</th>\n",
       "      <td>WICKETKEEPER</td>\n",
       "      <td>sold</td>\n",
       "      <td>27</td>\n",
       "    </tr>\n",
       "  </tbody>\n",
       "</table>\n",
       "</div>"
      ],
      "text/plain": [
       "           Type  status  Player\n",
       "0   ALL-ROUNDER  Unsold     154\n",
       "1   ALL-ROUNDER    sold      88\n",
       "2        BATTER  Unsold      67\n",
       "3        BATTER    sold      45\n",
       "4        BOWLER  Unsold     138\n",
       "5        BOWLER    sold      77\n",
       "6  WICKETKEEPER  Unsold      37\n",
       "7  WICKETKEEPER    sold      27"
      ]
     },
     "execution_count": 39,
     "metadata": {},
     "output_type": "execute_result"
    }
   ],
   "source": [
    "# 6. How many Players were Braught for each Role\n",
    "\n",
    "df.groupby(['Type','status'])['Player'].count().reset_index()"
   ]
  },
  {
   "cell_type": "code",
   "execution_count": 40,
   "id": "5620f272",
   "metadata": {
    "execution": {
     "iopub.execute_input": "2022-09-12T07:54:16.112348Z",
     "iopub.status.busy": "2022-09-12T07:54:16.111950Z",
     "iopub.status.idle": "2022-09-12T07:54:16.119440Z",
     "shell.execute_reply": "2022-09-12T07:54:16.118766Z"
    },
    "papermill": {
     "duration": 0.026707,
     "end_time": "2022-09-12T07:54:16.121385",
     "exception": false,
     "start_time": "2022-09-12T07:54:16.094678",
     "status": "completed"
    },
    "tags": []
   },
   "outputs": [],
   "source": [
    "# 7. Which Are the players who participated in IPL 2021 and will be participating in IPL 2022 and playing in same team\n",
    "\n",
    "df.replace({'SRH':'Sunrisers Hyderabad','CSK':'Chennai Super Kings','MI':'Mumbai Indians',\n",
    "            'KKR':'Kolkata Knight Riders','RR':'Rajasthan Royals','PBKS':'Punjab Kings',\n",
    "            'DC':'Delhi Capitals','RCB':'Royal Challengers Bangalore'},inplace =True)"
   ]
  },
  {
   "cell_type": "code",
   "execution_count": 41,
   "id": "5d8da9a5",
   "metadata": {
    "execution": {
     "iopub.execute_input": "2022-09-12T07:54:16.157156Z",
     "iopub.status.busy": "2022-09-12T07:54:16.156230Z",
     "iopub.status.idle": "2022-09-12T07:54:16.182212Z",
     "shell.execute_reply": "2022-09-12T07:54:16.181259Z"
    },
    "papermill": {
     "duration": 0.046297,
     "end_time": "2022-09-12T07:54:16.183994",
     "exception": false,
     "start_time": "2022-09-12T07:54:16.137697",
     "status": "completed"
    },
    "tags": []
   },
   "outputs": [
    {
     "data": {
      "text/html": [
       "<div>\n",
       "<style scoped>\n",
       "    .dataframe tbody tr th:only-of-type {\n",
       "        vertical-align: middle;\n",
       "    }\n",
       "\n",
       "    .dataframe tbody tr th {\n",
       "        vertical-align: top;\n",
       "    }\n",
       "\n",
       "    .dataframe thead th {\n",
       "        text-align: right;\n",
       "    }\n",
       "</style>\n",
       "<table border=\"1\" class=\"dataframe\">\n",
       "  <thead>\n",
       "    <tr style=\"text-align: right;\">\n",
       "      <th></th>\n",
       "      <th>Player</th>\n",
       "      <th>Type</th>\n",
       "      <th>Sold_for_lakh</th>\n",
       "      <th>Cost_in_dollars</th>\n",
       "      <th>Prev_team</th>\n",
       "      <th>Curr_team</th>\n",
       "      <th>status</th>\n",
       "      <th>retention</th>\n",
       "      <th>base_price</th>\n",
       "    </tr>\n",
       "  </thead>\n",
       "  <tbody>\n",
       "    <tr>\n",
       "      <th>23</th>\n",
       "      <td>Deepak Chahar</td>\n",
       "      <td>BOWLER</td>\n",
       "      <td>1400.0</td>\n",
       "      <td>1820.0</td>\n",
       "      <td>Chennai Super Kings</td>\n",
       "      <td>Chennai Super Kings</td>\n",
       "      <td>sold</td>\n",
       "      <td>In Auction</td>\n",
       "      <td>200.0</td>\n",
       "    </tr>\n",
       "    <tr>\n",
       "      <th>26</th>\n",
       "      <td>Ambati Rayudu</td>\n",
       "      <td>WICKETKEEPER</td>\n",
       "      <td>675.0</td>\n",
       "      <td>877.5</td>\n",
       "      <td>Chennai Super Kings</td>\n",
       "      <td>Chennai Super Kings</td>\n",
       "      <td>sold</td>\n",
       "      <td>In Auction</td>\n",
       "      <td>200.0</td>\n",
       "    </tr>\n",
       "    <tr>\n",
       "      <th>28</th>\n",
       "      <td>Dwayne Bravo</td>\n",
       "      <td>ALL-ROUNDER</td>\n",
       "      <td>440.0</td>\n",
       "      <td>572.0</td>\n",
       "      <td>Chennai Super Kings</td>\n",
       "      <td>Chennai Super Kings</td>\n",
       "      <td>sold</td>\n",
       "      <td>In Auction</td>\n",
       "      <td>200.0</td>\n",
       "    </tr>\n",
       "    <tr>\n",
       "      <th>31</th>\n",
       "      <td>Robin Uthappa</td>\n",
       "      <td>BATTER</td>\n",
       "      <td>200.0</td>\n",
       "      <td>260.0</td>\n",
       "      <td>Chennai Super Kings</td>\n",
       "      <td>Chennai Super Kings</td>\n",
       "      <td>sold</td>\n",
       "      <td>In Auction</td>\n",
       "      <td>200.0</td>\n",
       "    </tr>\n",
       "    <tr>\n",
       "      <th>32</th>\n",
       "      <td>Mitchell Santner</td>\n",
       "      <td>ALL-ROUNDER</td>\n",
       "      <td>190.0</td>\n",
       "      <td>247.0</td>\n",
       "      <td>Chennai Super Kings</td>\n",
       "      <td>Chennai Super Kings</td>\n",
       "      <td>sold</td>\n",
       "      <td>In Auction</td>\n",
       "      <td>100.0</td>\n",
       "    </tr>\n",
       "    <tr>\n",
       "      <th>39</th>\n",
       "      <td>K.Bhagath Varma</td>\n",
       "      <td>ALL-ROUNDER</td>\n",
       "      <td>20.0</td>\n",
       "      <td>26.0</td>\n",
       "      <td>Chennai Super Kings</td>\n",
       "      <td>Chennai Super Kings</td>\n",
       "      <td>sold</td>\n",
       "      <td>In Auction</td>\n",
       "      <td>20.0</td>\n",
       "    </tr>\n",
       "    <tr>\n",
       "      <th>41</th>\n",
       "      <td>N. Jagadeesan</td>\n",
       "      <td>WICKETKEEPER</td>\n",
       "      <td>20.0</td>\n",
       "      <td>26.0</td>\n",
       "      <td>Chennai Super Kings</td>\n",
       "      <td>Chennai Super Kings</td>\n",
       "      <td>sold</td>\n",
       "      <td>In Auction</td>\n",
       "      <td>20.0</td>\n",
       "    </tr>\n",
       "    <tr>\n",
       "      <th>42</th>\n",
       "      <td>C.Hari Nishaanth</td>\n",
       "      <td>BATTER</td>\n",
       "      <td>20.0</td>\n",
       "      <td>26.0</td>\n",
       "      <td>Chennai Super Kings</td>\n",
       "      <td>Chennai Super Kings</td>\n",
       "      <td>sold</td>\n",
       "      <td>In Auction</td>\n",
       "      <td>20.0</td>\n",
       "    </tr>\n",
       "    <tr>\n",
       "      <th>43</th>\n",
       "      <td>K.M. Asif</td>\n",
       "      <td>BOWLER</td>\n",
       "      <td>20.0</td>\n",
       "      <td>26.0</td>\n",
       "      <td>Chennai Super Kings</td>\n",
       "      <td>Chennai Super Kings</td>\n",
       "      <td>sold</td>\n",
       "      <td>In Auction</td>\n",
       "      <td>20.0</td>\n",
       "    </tr>\n",
       "    <tr>\n",
       "      <th>62</th>\n",
       "      <td>Lalit Yadav</td>\n",
       "      <td>ALL-ROUNDER</td>\n",
       "      <td>65.0</td>\n",
       "      <td>84.5</td>\n",
       "      <td>Delhi Capitals</td>\n",
       "      <td>Delhi Capitals</td>\n",
       "      <td>sold</td>\n",
       "      <td>In Auction</td>\n",
       "      <td>20.0</td>\n",
       "    </tr>\n",
       "    <tr>\n",
       "      <th>64</th>\n",
       "      <td>Pravin Dubey</td>\n",
       "      <td>ALL-ROUNDER</td>\n",
       "      <td>50.0</td>\n",
       "      <td>65.0</td>\n",
       "      <td>Delhi Capitals</td>\n",
       "      <td>Delhi Capitals</td>\n",
       "      <td>sold</td>\n",
       "      <td>In Auction</td>\n",
       "      <td>20.0</td>\n",
       "    </tr>\n",
       "    <tr>\n",
       "      <th>69</th>\n",
       "      <td>Ripal Patel</td>\n",
       "      <td>ALL-ROUNDER</td>\n",
       "      <td>20.0</td>\n",
       "      <td>26.0</td>\n",
       "      <td>Delhi Capitals</td>\n",
       "      <td>Delhi Capitals</td>\n",
       "      <td>sold</td>\n",
       "      <td>In Auction</td>\n",
       "      <td>20.0</td>\n",
       "    </tr>\n",
       "    <tr>\n",
       "      <th>73</th>\n",
       "      <td>Nitish Rana</td>\n",
       "      <td>ALL-ROUNDER</td>\n",
       "      <td>800.0</td>\n",
       "      <td>1040.0</td>\n",
       "      <td>Kolkata Knight Riders</td>\n",
       "      <td>Kolkata Knight Riders</td>\n",
       "      <td>sold</td>\n",
       "      <td>In Auction</td>\n",
       "      <td>100.0</td>\n",
       "    </tr>\n",
       "    <tr>\n",
       "      <th>76</th>\n",
       "      <td>Pat Cummins</td>\n",
       "      <td>ALL-ROUNDER</td>\n",
       "      <td>725.0</td>\n",
       "      <td>942.5</td>\n",
       "      <td>Kolkata Knight Riders</td>\n",
       "      <td>Kolkata Knight Riders</td>\n",
       "      <td>sold</td>\n",
       "      <td>In Auction</td>\n",
       "      <td>200.0</td>\n",
       "    </tr>\n",
       "    <tr>\n",
       "      <th>77</th>\n",
       "      <td>Shivam Mavi</td>\n",
       "      <td>ALL-ROUNDER</td>\n",
       "      <td>725.0</td>\n",
       "      <td>942.5</td>\n",
       "      <td>Kolkata Knight Riders</td>\n",
       "      <td>Kolkata Knight Riders</td>\n",
       "      <td>sold</td>\n",
       "      <td>In Auction</td>\n",
       "      <td>40.0</td>\n",
       "    </tr>\n",
       "    <tr>\n",
       "      <th>81</th>\n",
       "      <td>Tim Southee</td>\n",
       "      <td>BOWLER</td>\n",
       "      <td>150.0</td>\n",
       "      <td>195.0</td>\n",
       "      <td>Kolkata Knight Riders</td>\n",
       "      <td>Kolkata Knight Riders</td>\n",
       "      <td>sold</td>\n",
       "      <td>In Auction</td>\n",
       "      <td>150.0</td>\n",
       "    </tr>\n",
       "    <tr>\n",
       "      <th>85</th>\n",
       "      <td>Sheldon Jackson</td>\n",
       "      <td>WICKETKEEPER</td>\n",
       "      <td>60.0</td>\n",
       "      <td>78.0</td>\n",
       "      <td>Kolkata Knight Riders</td>\n",
       "      <td>Kolkata Knight Riders</td>\n",
       "      <td>sold</td>\n",
       "      <td>In Auction</td>\n",
       "      <td>30.0</td>\n",
       "    </tr>\n",
       "    <tr>\n",
       "      <th>99</th>\n",
       "      <td>Shahrukh Khan</td>\n",
       "      <td>ALL-ROUNDER</td>\n",
       "      <td>900.0</td>\n",
       "      <td>1170.0</td>\n",
       "      <td>Punjab Kings</td>\n",
       "      <td>Punjab Kings</td>\n",
       "      <td>sold</td>\n",
       "      <td>In Auction</td>\n",
       "      <td>40.0</td>\n",
       "    </tr>\n",
       "    <tr>\n",
       "      <th>105</th>\n",
       "      <td>Harpreet Brar</td>\n",
       "      <td>ALL-ROUNDER</td>\n",
       "      <td>380.0</td>\n",
       "      <td>494.0</td>\n",
       "      <td>Punjab Kings</td>\n",
       "      <td>Punjab Kings</td>\n",
       "      <td>sold</td>\n",
       "      <td>In Auction</td>\n",
       "      <td>20.0</td>\n",
       "    </tr>\n",
       "    <tr>\n",
       "      <th>108</th>\n",
       "      <td>Nathan Ellis</td>\n",
       "      <td>BOWLER</td>\n",
       "      <td>75.0</td>\n",
       "      <td>97.5</td>\n",
       "      <td>Punjab Kings</td>\n",
       "      <td>Punjab Kings</td>\n",
       "      <td>sold</td>\n",
       "      <td>In Auction</td>\n",
       "      <td>75.0</td>\n",
       "    </tr>\n",
       "    <tr>\n",
       "      <th>109</th>\n",
       "      <td>Prabhsimran Singh</td>\n",
       "      <td>WICKETKEEPER</td>\n",
       "      <td>60.0</td>\n",
       "      <td>78.0</td>\n",
       "      <td>Punjab Kings</td>\n",
       "      <td>Punjab Kings</td>\n",
       "      <td>sold</td>\n",
       "      <td>In Auction</td>\n",
       "      <td>20.0</td>\n",
       "    </tr>\n",
       "    <tr>\n",
       "      <th>114</th>\n",
       "      <td>Ishan Porel</td>\n",
       "      <td>BOWLER</td>\n",
       "      <td>25.0</td>\n",
       "      <td>32.5</td>\n",
       "      <td>Punjab Kings</td>\n",
       "      <td>Punjab Kings</td>\n",
       "      <td>sold</td>\n",
       "      <td>In Auction</td>\n",
       "      <td>20.0</td>\n",
       "    </tr>\n",
       "    <tr>\n",
       "      <th>144</th>\n",
       "      <td>Ishan Kishan</td>\n",
       "      <td>WICKETKEEPER</td>\n",
       "      <td>1525.0</td>\n",
       "      <td>1982.5</td>\n",
       "      <td>Mumbai Indians</td>\n",
       "      <td>Mumbai Indians</td>\n",
       "      <td>sold</td>\n",
       "      <td>In Auction</td>\n",
       "      <td>200.0</td>\n",
       "    </tr>\n",
       "    <tr>\n",
       "      <th>160</th>\n",
       "      <td>Arjun Tendulkar</td>\n",
       "      <td>ALL-ROUNDER</td>\n",
       "      <td>30.0</td>\n",
       "      <td>39.0</td>\n",
       "      <td>Mumbai Indians</td>\n",
       "      <td>Mumbai Indians</td>\n",
       "      <td>sold</td>\n",
       "      <td>In Auction</td>\n",
       "      <td>20.0</td>\n",
       "    </tr>\n",
       "    <tr>\n",
       "      <th>162</th>\n",
       "      <td>Anmolpreet Singh</td>\n",
       "      <td>BATTER</td>\n",
       "      <td>20.0</td>\n",
       "      <td>26.0</td>\n",
       "      <td>Mumbai Indians</td>\n",
       "      <td>Mumbai Indians</td>\n",
       "      <td>sold</td>\n",
       "      <td>In Auction</td>\n",
       "      <td>20.0</td>\n",
       "    </tr>\n",
       "    <tr>\n",
       "      <th>170</th>\n",
       "      <td>Wanindu Hasaranga</td>\n",
       "      <td>ALL-ROUNDER</td>\n",
       "      <td>1075.0</td>\n",
       "      <td>1397.5</td>\n",
       "      <td>Royal Challengers Bangalore</td>\n",
       "      <td>Royal Challengers Bangalore</td>\n",
       "      <td>sold</td>\n",
       "      <td>In Auction</td>\n",
       "      <td>100.0</td>\n",
       "    </tr>\n",
       "    <tr>\n",
       "      <th>171</th>\n",
       "      <td>Harshal Patel</td>\n",
       "      <td>ALL-ROUNDER</td>\n",
       "      <td>1075.0</td>\n",
       "      <td>1397.5</td>\n",
       "      <td>Royal Challengers Bangalore</td>\n",
       "      <td>Royal Challengers Bangalore</td>\n",
       "      <td>sold</td>\n",
       "      <td>In Auction</td>\n",
       "      <td>200.0</td>\n",
       "    </tr>\n",
       "    <tr>\n",
       "      <th>177</th>\n",
       "      <td>Shahbaz Ahamad</td>\n",
       "      <td>ALL-ROUNDER</td>\n",
       "      <td>240.0</td>\n",
       "      <td>312.0</td>\n",
       "      <td>Royal Challengers Bangalore</td>\n",
       "      <td>Royal Challengers Bangalore</td>\n",
       "      <td>sold</td>\n",
       "      <td>In Auction</td>\n",
       "      <td>30.0</td>\n",
       "    </tr>\n",
       "    <tr>\n",
       "      <th>181</th>\n",
       "      <td>Finn Allen</td>\n",
       "      <td>BATTER</td>\n",
       "      <td>80.0</td>\n",
       "      <td>104.0</td>\n",
       "      <td>Royal Challengers Bangalore</td>\n",
       "      <td>Royal Challengers Bangalore</td>\n",
       "      <td>sold</td>\n",
       "      <td>In Auction</td>\n",
       "      <td>50.0</td>\n",
       "    </tr>\n",
       "    <tr>\n",
       "      <th>185</th>\n",
       "      <td>Suyash Prabhudessai</td>\n",
       "      <td>ALL-ROUNDER</td>\n",
       "      <td>30.0</td>\n",
       "      <td>39.0</td>\n",
       "      <td>Royal Challengers Bangalore</td>\n",
       "      <td>Royal Challengers Bangalore</td>\n",
       "      <td>sold</td>\n",
       "      <td>In Auction</td>\n",
       "      <td>20.0</td>\n",
       "    </tr>\n",
       "    <tr>\n",
       "      <th>187</th>\n",
       "      <td>Akash Deep</td>\n",
       "      <td>BOWLER</td>\n",
       "      <td>20.0</td>\n",
       "      <td>26.0</td>\n",
       "      <td>Royal Challengers Bangalore</td>\n",
       "      <td>Royal Challengers Bangalore</td>\n",
       "      <td>sold</td>\n",
       "      <td>In Auction</td>\n",
       "      <td>20.0</td>\n",
       "    </tr>\n",
       "    <tr>\n",
       "      <th>199</th>\n",
       "      <td>Riyan Parag</td>\n",
       "      <td>ALL-ROUNDER</td>\n",
       "      <td>380.0</td>\n",
       "      <td>494.0</td>\n",
       "      <td>Rajasthan Royals</td>\n",
       "      <td>Rajasthan Royals</td>\n",
       "      <td>sold</td>\n",
       "      <td>In Auction</td>\n",
       "      <td>30.0</td>\n",
       "    </tr>\n",
       "    <tr>\n",
       "      <th>207</th>\n",
       "      <td>K.C Cariappa</td>\n",
       "      <td>BOWLER</td>\n",
       "      <td>30.0</td>\n",
       "      <td>39.0</td>\n",
       "      <td>Rajasthan Royals</td>\n",
       "      <td>Rajasthan Royals</td>\n",
       "      <td>sold</td>\n",
       "      <td>In Auction</td>\n",
       "      <td>20.0</td>\n",
       "    </tr>\n",
       "    <tr>\n",
       "      <th>212</th>\n",
       "      <td>Kuldip Yadav</td>\n",
       "      <td>BOWLER</td>\n",
       "      <td>20.0</td>\n",
       "      <td>26.0</td>\n",
       "      <td>Rajasthan Royals</td>\n",
       "      <td>Rajasthan Royals</td>\n",
       "      <td>sold</td>\n",
       "      <td>In Auction</td>\n",
       "      <td>20.0</td>\n",
       "    </tr>\n",
       "    <tr>\n",
       "      <th>219</th>\n",
       "      <td>Abhishek Sharma</td>\n",
       "      <td>ALL-ROUNDER</td>\n",
       "      <td>650.0</td>\n",
       "      <td>845.0</td>\n",
       "      <td>Sunrisers Hyderabad</td>\n",
       "      <td>Sunrisers Hyderabad</td>\n",
       "      <td>sold</td>\n",
       "      <td>In Auction</td>\n",
       "      <td>20.0</td>\n",
       "    </tr>\n",
       "    <tr>\n",
       "      <th>221</th>\n",
       "      <td>Bhuvneshwar Kumar</td>\n",
       "      <td>BOWLER</td>\n",
       "      <td>420.0</td>\n",
       "      <td>546.0</td>\n",
       "      <td>Sunrisers Hyderabad</td>\n",
       "      <td>Sunrisers Hyderabad</td>\n",
       "      <td>sold</td>\n",
       "      <td>In Auction</td>\n",
       "      <td>200.0</td>\n",
       "    </tr>\n",
       "    <tr>\n",
       "      <th>222</th>\n",
       "      <td>T. Natarajan</td>\n",
       "      <td>BOWLER</td>\n",
       "      <td>400.0</td>\n",
       "      <td>520.0</td>\n",
       "      <td>Sunrisers Hyderabad</td>\n",
       "      <td>Sunrisers Hyderabad</td>\n",
       "      <td>sold</td>\n",
       "      <td>In Auction</td>\n",
       "      <td>100.0</td>\n",
       "    </tr>\n",
       "    <tr>\n",
       "      <th>232</th>\n",
       "      <td>Priyam Garg</td>\n",
       "      <td>BATTER</td>\n",
       "      <td>20.0</td>\n",
       "      <td>26.0</td>\n",
       "      <td>Sunrisers Hyderabad</td>\n",
       "      <td>Sunrisers Hyderabad</td>\n",
       "      <td>sold</td>\n",
       "      <td>In Auction</td>\n",
       "      <td>20.0</td>\n",
       "    </tr>\n",
       "    <tr>\n",
       "      <th>234</th>\n",
       "      <td>Jagadeesha Suchith</td>\n",
       "      <td>BOWLER</td>\n",
       "      <td>20.0</td>\n",
       "      <td>26.0</td>\n",
       "      <td>Sunrisers Hyderabad</td>\n",
       "      <td>Sunrisers Hyderabad</td>\n",
       "      <td>sold</td>\n",
       "      <td>In Auction</td>\n",
       "      <td>20.0</td>\n",
       "    </tr>\n",
       "  </tbody>\n",
       "</table>\n",
       "</div>"
      ],
      "text/plain": [
       "                  Player          Type  Sold_for_lakh  Cost_in_dollars  \\\n",
       "23         Deepak Chahar        BOWLER         1400.0           1820.0   \n",
       "26         Ambati Rayudu  WICKETKEEPER          675.0            877.5   \n",
       "28          Dwayne Bravo   ALL-ROUNDER          440.0            572.0   \n",
       "31         Robin Uthappa        BATTER          200.0            260.0   \n",
       "32      Mitchell Santner   ALL-ROUNDER          190.0            247.0   \n",
       "39       K.Bhagath Varma   ALL-ROUNDER           20.0             26.0   \n",
       "41         N. Jagadeesan  WICKETKEEPER           20.0             26.0   \n",
       "42      C.Hari Nishaanth        BATTER           20.0             26.0   \n",
       "43             K.M. Asif        BOWLER           20.0             26.0   \n",
       "62           Lalit Yadav   ALL-ROUNDER           65.0             84.5   \n",
       "64          Pravin Dubey   ALL-ROUNDER           50.0             65.0   \n",
       "69           Ripal Patel   ALL-ROUNDER           20.0             26.0   \n",
       "73           Nitish Rana   ALL-ROUNDER          800.0           1040.0   \n",
       "76           Pat Cummins   ALL-ROUNDER          725.0            942.5   \n",
       "77           Shivam Mavi   ALL-ROUNDER          725.0            942.5   \n",
       "81           Tim Southee        BOWLER          150.0            195.0   \n",
       "85       Sheldon Jackson  WICKETKEEPER           60.0             78.0   \n",
       "99         Shahrukh Khan   ALL-ROUNDER          900.0           1170.0   \n",
       "105        Harpreet Brar   ALL-ROUNDER          380.0            494.0   \n",
       "108         Nathan Ellis        BOWLER           75.0             97.5   \n",
       "109    Prabhsimran Singh  WICKETKEEPER           60.0             78.0   \n",
       "114          Ishan Porel        BOWLER           25.0             32.5   \n",
       "144         Ishan Kishan  WICKETKEEPER         1525.0           1982.5   \n",
       "160      Arjun Tendulkar   ALL-ROUNDER           30.0             39.0   \n",
       "162     Anmolpreet Singh        BATTER           20.0             26.0   \n",
       "170    Wanindu Hasaranga   ALL-ROUNDER         1075.0           1397.5   \n",
       "171        Harshal Patel   ALL-ROUNDER         1075.0           1397.5   \n",
       "177       Shahbaz Ahamad   ALL-ROUNDER          240.0            312.0   \n",
       "181           Finn Allen        BATTER           80.0            104.0   \n",
       "185  Suyash Prabhudessai   ALL-ROUNDER           30.0             39.0   \n",
       "187           Akash Deep        BOWLER           20.0             26.0   \n",
       "199          Riyan Parag   ALL-ROUNDER          380.0            494.0   \n",
       "207         K.C Cariappa        BOWLER           30.0             39.0   \n",
       "212         Kuldip Yadav        BOWLER           20.0             26.0   \n",
       "219      Abhishek Sharma   ALL-ROUNDER          650.0            845.0   \n",
       "221    Bhuvneshwar Kumar        BOWLER          420.0            546.0   \n",
       "222         T. Natarajan        BOWLER          400.0            520.0   \n",
       "232          Priyam Garg        BATTER           20.0             26.0   \n",
       "234   Jagadeesha Suchith        BOWLER           20.0             26.0   \n",
       "\n",
       "                       Prev_team                    Curr_team status  \\\n",
       "23           Chennai Super Kings          Chennai Super Kings   sold   \n",
       "26           Chennai Super Kings          Chennai Super Kings   sold   \n",
       "28           Chennai Super Kings          Chennai Super Kings   sold   \n",
       "31           Chennai Super Kings          Chennai Super Kings   sold   \n",
       "32           Chennai Super Kings          Chennai Super Kings   sold   \n",
       "39           Chennai Super Kings          Chennai Super Kings   sold   \n",
       "41           Chennai Super Kings          Chennai Super Kings   sold   \n",
       "42           Chennai Super Kings          Chennai Super Kings   sold   \n",
       "43           Chennai Super Kings          Chennai Super Kings   sold   \n",
       "62                Delhi Capitals               Delhi Capitals   sold   \n",
       "64                Delhi Capitals               Delhi Capitals   sold   \n",
       "69                Delhi Capitals               Delhi Capitals   sold   \n",
       "73         Kolkata Knight Riders        Kolkata Knight Riders   sold   \n",
       "76         Kolkata Knight Riders        Kolkata Knight Riders   sold   \n",
       "77         Kolkata Knight Riders        Kolkata Knight Riders   sold   \n",
       "81         Kolkata Knight Riders        Kolkata Knight Riders   sold   \n",
       "85         Kolkata Knight Riders        Kolkata Knight Riders   sold   \n",
       "99                  Punjab Kings                 Punjab Kings   sold   \n",
       "105                 Punjab Kings                 Punjab Kings   sold   \n",
       "108                 Punjab Kings                 Punjab Kings   sold   \n",
       "109                 Punjab Kings                 Punjab Kings   sold   \n",
       "114                 Punjab Kings                 Punjab Kings   sold   \n",
       "144               Mumbai Indians               Mumbai Indians   sold   \n",
       "160               Mumbai Indians               Mumbai Indians   sold   \n",
       "162               Mumbai Indians               Mumbai Indians   sold   \n",
       "170  Royal Challengers Bangalore  Royal Challengers Bangalore   sold   \n",
       "171  Royal Challengers Bangalore  Royal Challengers Bangalore   sold   \n",
       "177  Royal Challengers Bangalore  Royal Challengers Bangalore   sold   \n",
       "181  Royal Challengers Bangalore  Royal Challengers Bangalore   sold   \n",
       "185  Royal Challengers Bangalore  Royal Challengers Bangalore   sold   \n",
       "187  Royal Challengers Bangalore  Royal Challengers Bangalore   sold   \n",
       "199             Rajasthan Royals             Rajasthan Royals   sold   \n",
       "207             Rajasthan Royals             Rajasthan Royals   sold   \n",
       "212             Rajasthan Royals             Rajasthan Royals   sold   \n",
       "219          Sunrisers Hyderabad          Sunrisers Hyderabad   sold   \n",
       "221          Sunrisers Hyderabad          Sunrisers Hyderabad   sold   \n",
       "222          Sunrisers Hyderabad          Sunrisers Hyderabad   sold   \n",
       "232          Sunrisers Hyderabad          Sunrisers Hyderabad   sold   \n",
       "234          Sunrisers Hyderabad          Sunrisers Hyderabad   sold   \n",
       "\n",
       "      retention  base_price  \n",
       "23   In Auction       200.0  \n",
       "26   In Auction       200.0  \n",
       "28   In Auction       200.0  \n",
       "31   In Auction       200.0  \n",
       "32   In Auction       100.0  \n",
       "39   In Auction        20.0  \n",
       "41   In Auction        20.0  \n",
       "42   In Auction        20.0  \n",
       "43   In Auction        20.0  \n",
       "62   In Auction        20.0  \n",
       "64   In Auction        20.0  \n",
       "69   In Auction        20.0  \n",
       "73   In Auction       100.0  \n",
       "76   In Auction       200.0  \n",
       "77   In Auction        40.0  \n",
       "81   In Auction       150.0  \n",
       "85   In Auction        30.0  \n",
       "99   In Auction        40.0  \n",
       "105  In Auction        20.0  \n",
       "108  In Auction        75.0  \n",
       "109  In Auction        20.0  \n",
       "114  In Auction        20.0  \n",
       "144  In Auction       200.0  \n",
       "160  In Auction        20.0  \n",
       "162  In Auction        20.0  \n",
       "170  In Auction       100.0  \n",
       "171  In Auction       200.0  \n",
       "177  In Auction        30.0  \n",
       "181  In Auction        50.0  \n",
       "185  In Auction        20.0  \n",
       "187  In Auction        20.0  \n",
       "199  In Auction        30.0  \n",
       "207  In Auction        20.0  \n",
       "212  In Auction        20.0  \n",
       "219  In Auction        20.0  \n",
       "221  In Auction       200.0  \n",
       "222  In Auction       100.0  \n",
       "232  In Auction        20.0  \n",
       "234  In Auction        20.0  "
      ]
     },
     "execution_count": 41,
     "metadata": {},
     "output_type": "execute_result"
    }
   ],
   "source": [
    "same_team = df[(df['Curr_team']==df['Prev_team']) & (df['retention']=='In Auction')]\n",
    "same_team"
   ]
  },
  {
   "cell_type": "code",
   "execution_count": 42,
   "id": "b1e9dcbc",
   "metadata": {
    "execution": {
     "iopub.execute_input": "2022-09-12T07:54:16.218432Z",
     "iopub.status.busy": "2022-09-12T07:54:16.218093Z",
     "iopub.status.idle": "2022-09-12T07:54:16.232711Z",
     "shell.execute_reply": "2022-09-12T07:54:16.232101Z"
    },
    "papermill": {
     "duration": 0.03409,
     "end_time": "2022-09-12T07:54:16.234377",
     "exception": false,
     "start_time": "2022-09-12T07:54:16.200287",
     "status": "completed"
    },
    "tags": []
   },
   "outputs": [
    {
     "data": {
      "text/html": [
       "<div>\n",
       "<style scoped>\n",
       "    .dataframe tbody tr th:only-of-type {\n",
       "        vertical-align: middle;\n",
       "    }\n",
       "\n",
       "    .dataframe tbody tr th {\n",
       "        vertical-align: top;\n",
       "    }\n",
       "\n",
       "    .dataframe thead th {\n",
       "        text-align: right;\n",
       "    }\n",
       "</style>\n",
       "<table border=\"1\" class=\"dataframe\">\n",
       "  <thead>\n",
       "    <tr style=\"text-align: right;\">\n",
       "      <th></th>\n",
       "      <th>Player</th>\n",
       "      <th>Type</th>\n",
       "      <th>Sold_for_lakh</th>\n",
       "      <th>Cost_in_dollars</th>\n",
       "      <th>Prev_team</th>\n",
       "      <th>Curr_team</th>\n",
       "      <th>status</th>\n",
       "      <th>retention</th>\n",
       "      <th>base_price</th>\n",
       "    </tr>\n",
       "  </thead>\n",
       "  <tbody>\n",
       "    <tr>\n",
       "      <th>170</th>\n",
       "      <td>Wanindu Hasaranga</td>\n",
       "      <td>ALL-ROUNDER</td>\n",
       "      <td>1075.0</td>\n",
       "      <td>1397.5</td>\n",
       "      <td>Royal Challengers Bangalore</td>\n",
       "      <td>Royal Challengers Bangalore</td>\n",
       "      <td>sold</td>\n",
       "      <td>In Auction</td>\n",
       "      <td>100.0</td>\n",
       "    </tr>\n",
       "    <tr>\n",
       "      <th>171</th>\n",
       "      <td>Harshal Patel</td>\n",
       "      <td>ALL-ROUNDER</td>\n",
       "      <td>1075.0</td>\n",
       "      <td>1397.5</td>\n",
       "      <td>Royal Challengers Bangalore</td>\n",
       "      <td>Royal Challengers Bangalore</td>\n",
       "      <td>sold</td>\n",
       "      <td>In Auction</td>\n",
       "      <td>200.0</td>\n",
       "    </tr>\n",
       "    <tr>\n",
       "      <th>177</th>\n",
       "      <td>Shahbaz Ahamad</td>\n",
       "      <td>ALL-ROUNDER</td>\n",
       "      <td>240.0</td>\n",
       "      <td>312.0</td>\n",
       "      <td>Royal Challengers Bangalore</td>\n",
       "      <td>Royal Challengers Bangalore</td>\n",
       "      <td>sold</td>\n",
       "      <td>In Auction</td>\n",
       "      <td>30.0</td>\n",
       "    </tr>\n",
       "    <tr>\n",
       "      <th>181</th>\n",
       "      <td>Finn Allen</td>\n",
       "      <td>BATTER</td>\n",
       "      <td>80.0</td>\n",
       "      <td>104.0</td>\n",
       "      <td>Royal Challengers Bangalore</td>\n",
       "      <td>Royal Challengers Bangalore</td>\n",
       "      <td>sold</td>\n",
       "      <td>In Auction</td>\n",
       "      <td>50.0</td>\n",
       "    </tr>\n",
       "    <tr>\n",
       "      <th>185</th>\n",
       "      <td>Suyash Prabhudessai</td>\n",
       "      <td>ALL-ROUNDER</td>\n",
       "      <td>30.0</td>\n",
       "      <td>39.0</td>\n",
       "      <td>Royal Challengers Bangalore</td>\n",
       "      <td>Royal Challengers Bangalore</td>\n",
       "      <td>sold</td>\n",
       "      <td>In Auction</td>\n",
       "      <td>20.0</td>\n",
       "    </tr>\n",
       "    <tr>\n",
       "      <th>187</th>\n",
       "      <td>Akash Deep</td>\n",
       "      <td>BOWLER</td>\n",
       "      <td>20.0</td>\n",
       "      <td>26.0</td>\n",
       "      <td>Royal Challengers Bangalore</td>\n",
       "      <td>Royal Challengers Bangalore</td>\n",
       "      <td>sold</td>\n",
       "      <td>In Auction</td>\n",
       "      <td>20.0</td>\n",
       "    </tr>\n",
       "  </tbody>\n",
       "</table>\n",
       "</div>"
      ],
      "text/plain": [
       "                  Player         Type  Sold_for_lakh  Cost_in_dollars  \\\n",
       "170    Wanindu Hasaranga  ALL-ROUNDER         1075.0           1397.5   \n",
       "171        Harshal Patel  ALL-ROUNDER         1075.0           1397.5   \n",
       "177       Shahbaz Ahamad  ALL-ROUNDER          240.0            312.0   \n",
       "181           Finn Allen       BATTER           80.0            104.0   \n",
       "185  Suyash Prabhudessai  ALL-ROUNDER           30.0             39.0   \n",
       "187           Akash Deep       BOWLER           20.0             26.0   \n",
       "\n",
       "                       Prev_team                    Curr_team status  \\\n",
       "170  Royal Challengers Bangalore  Royal Challengers Bangalore   sold   \n",
       "171  Royal Challengers Bangalore  Royal Challengers Bangalore   sold   \n",
       "177  Royal Challengers Bangalore  Royal Challengers Bangalore   sold   \n",
       "181  Royal Challengers Bangalore  Royal Challengers Bangalore   sold   \n",
       "185  Royal Challengers Bangalore  Royal Challengers Bangalore   sold   \n",
       "187  Royal Challengers Bangalore  Royal Challengers Bangalore   sold   \n",
       "\n",
       "      retention  base_price  \n",
       "170  In Auction       100.0  \n",
       "171  In Auction       200.0  \n",
       "177  In Auction        30.0  \n",
       "181  In Auction        50.0  \n",
       "185  In Auction        20.0  \n",
       "187  In Auction        20.0  "
      ]
     },
     "execution_count": 42,
     "metadata": {},
     "output_type": "execute_result"
    }
   ],
   "source": [
    "same_team[same_team.Curr_team=='Royal Challengers Bangalore']"
   ]
  },
  {
   "cell_type": "code",
   "execution_count": 43,
   "id": "e32663d9",
   "metadata": {
    "execution": {
     "iopub.execute_input": "2022-09-12T07:54:16.271253Z",
     "iopub.status.busy": "2022-09-12T07:54:16.270186Z",
     "iopub.status.idle": "2022-09-12T07:54:16.283686Z",
     "shell.execute_reply": "2022-09-12T07:54:16.283043Z"
    },
    "papermill": {
     "duration": 0.033484,
     "end_time": "2022-09-12T07:54:16.285250",
     "exception": false,
     "start_time": "2022-09-12T07:54:16.251766",
     "status": "completed"
    },
    "tags": []
   },
   "outputs": [
    {
     "data": {
      "text/html": [
       "<div>\n",
       "<style scoped>\n",
       "    .dataframe tbody tr th:only-of-type {\n",
       "        vertical-align: middle;\n",
       "    }\n",
       "\n",
       "    .dataframe tbody tr th {\n",
       "        vertical-align: top;\n",
       "    }\n",
       "\n",
       "    .dataframe thead th {\n",
       "        text-align: right;\n",
       "    }\n",
       "</style>\n",
       "<table border=\"1\" class=\"dataframe\">\n",
       "  <thead>\n",
       "    <tr style=\"text-align: right;\">\n",
       "      <th></th>\n",
       "      <th>Player</th>\n",
       "      <th>Type</th>\n",
       "      <th>Sold_for_lakh</th>\n",
       "      <th>Cost_in_dollars</th>\n",
       "      <th>Prev_team</th>\n",
       "      <th>Curr_team</th>\n",
       "      <th>status</th>\n",
       "      <th>retention</th>\n",
       "      <th>base_price</th>\n",
       "    </tr>\n",
       "  </thead>\n",
       "  <tbody>\n",
       "    <tr>\n",
       "      <th>73</th>\n",
       "      <td>Nitish Rana</td>\n",
       "      <td>ALL-ROUNDER</td>\n",
       "      <td>800.0</td>\n",
       "      <td>1040.0</td>\n",
       "      <td>Kolkata Knight Riders</td>\n",
       "      <td>Kolkata Knight Riders</td>\n",
       "      <td>sold</td>\n",
       "      <td>In Auction</td>\n",
       "      <td>100.0</td>\n",
       "    </tr>\n",
       "    <tr>\n",
       "      <th>76</th>\n",
       "      <td>Pat Cummins</td>\n",
       "      <td>ALL-ROUNDER</td>\n",
       "      <td>725.0</td>\n",
       "      <td>942.5</td>\n",
       "      <td>Kolkata Knight Riders</td>\n",
       "      <td>Kolkata Knight Riders</td>\n",
       "      <td>sold</td>\n",
       "      <td>In Auction</td>\n",
       "      <td>200.0</td>\n",
       "    </tr>\n",
       "    <tr>\n",
       "      <th>77</th>\n",
       "      <td>Shivam Mavi</td>\n",
       "      <td>ALL-ROUNDER</td>\n",
       "      <td>725.0</td>\n",
       "      <td>942.5</td>\n",
       "      <td>Kolkata Knight Riders</td>\n",
       "      <td>Kolkata Knight Riders</td>\n",
       "      <td>sold</td>\n",
       "      <td>In Auction</td>\n",
       "      <td>40.0</td>\n",
       "    </tr>\n",
       "    <tr>\n",
       "      <th>81</th>\n",
       "      <td>Tim Southee</td>\n",
       "      <td>BOWLER</td>\n",
       "      <td>150.0</td>\n",
       "      <td>195.0</td>\n",
       "      <td>Kolkata Knight Riders</td>\n",
       "      <td>Kolkata Knight Riders</td>\n",
       "      <td>sold</td>\n",
       "      <td>In Auction</td>\n",
       "      <td>150.0</td>\n",
       "    </tr>\n",
       "    <tr>\n",
       "      <th>85</th>\n",
       "      <td>Sheldon Jackson</td>\n",
       "      <td>WICKETKEEPER</td>\n",
       "      <td>60.0</td>\n",
       "      <td>78.0</td>\n",
       "      <td>Kolkata Knight Riders</td>\n",
       "      <td>Kolkata Knight Riders</td>\n",
       "      <td>sold</td>\n",
       "      <td>In Auction</td>\n",
       "      <td>30.0</td>\n",
       "    </tr>\n",
       "  </tbody>\n",
       "</table>\n",
       "</div>"
      ],
      "text/plain": [
       "             Player          Type  Sold_for_lakh  Cost_in_dollars  \\\n",
       "73      Nitish Rana   ALL-ROUNDER          800.0           1040.0   \n",
       "76      Pat Cummins   ALL-ROUNDER          725.0            942.5   \n",
       "77      Shivam Mavi   ALL-ROUNDER          725.0            942.5   \n",
       "81      Tim Southee        BOWLER          150.0            195.0   \n",
       "85  Sheldon Jackson  WICKETKEEPER           60.0             78.0   \n",
       "\n",
       "                Prev_team              Curr_team status   retention  \\\n",
       "73  Kolkata Knight Riders  Kolkata Knight Riders   sold  In Auction   \n",
       "76  Kolkata Knight Riders  Kolkata Knight Riders   sold  In Auction   \n",
       "77  Kolkata Knight Riders  Kolkata Knight Riders   sold  In Auction   \n",
       "81  Kolkata Knight Riders  Kolkata Knight Riders   sold  In Auction   \n",
       "85  Kolkata Knight Riders  Kolkata Knight Riders   sold  In Auction   \n",
       "\n",
       "    base_price  \n",
       "73       100.0  \n",
       "76       200.0  \n",
       "77        40.0  \n",
       "81       150.0  \n",
       "85        30.0  "
      ]
     },
     "execution_count": 43,
     "metadata": {},
     "output_type": "execute_result"
    }
   ],
   "source": [
    "same_team[same_team.Curr_team=='Kolkata Knight Riders']"
   ]
  },
  {
   "cell_type": "code",
   "execution_count": 44,
   "id": "5177ad67",
   "metadata": {
    "execution": {
     "iopub.execute_input": "2022-09-12T07:54:16.324846Z",
     "iopub.status.busy": "2022-09-12T07:54:16.323433Z",
     "iopub.status.idle": "2022-09-12T07:54:16.526427Z",
     "shell.execute_reply": "2022-09-12T07:54:16.525418Z"
    },
    "papermill": {
     "duration": 0.225025,
     "end_time": "2022-09-12T07:54:16.529115",
     "exception": false,
     "start_time": "2022-09-12T07:54:16.304090",
     "status": "completed"
    },
    "tags": []
   },
   "outputs": [
    {
     "data": {
      "image/png": "[encoded data removed]",
      "text/plain": [
       "<Figure size 1000x800 with 1 Axes>"
      ]
     },
     "metadata": {},
     "output_type": "display_data"
    }
   ],
   "source": [
    "# Let's Visualize this team wise\n",
    "\n",
    "plt.figure(figsize=(10, 8))\n",
    "sns.countplot(data=same_team, x='Curr_team')\n",
    "plt.title('Players Who brought by their 2021 teams in Auction')\n",
    "plt.xlabel('Name of Team')\n",
    "plt.ylabel('Number of Players')\n",
    "plt.xticks(rotation=90)\n",
    "plt.grid(axis='y')\n",
    "plt.show()"
   ]
  },
  {
   "cell_type": "code",
   "execution_count": 45,
   "id": "d6fe62be",
   "metadata": {
    "execution": {
     "iopub.execute_input": "2022-09-12T07:54:16.566430Z",
     "iopub.status.busy": "2022-09-12T07:54:16.566053Z",
     "iopub.status.idle": "2022-09-12T07:54:17.028358Z",
     "shell.execute_reply": "2022-09-12T07:54:17.026961Z"
    },
    "papermill": {
     "duration": 0.484151,
     "end_time": "2022-09-12T07:54:17.031065",
     "exception": false,
     "start_time": "2022-09-12T07:54:16.546914",
     "status": "completed"
    },
    "tags": []
   },
   "outputs": [
    {
     "data": {
      "image/png": "[encoded data removed]",
      "text/plain": [
       "<Figure size 2000x1000 with 1 Axes>"
      ]
     },
     "metadata": {},
     "output_type": "display_data"
    }
   ],
   "source": [
    "# 8. Number of players in each team based on thier roles\n",
    "\n",
    "plt.figure(figsize=(20, 10))\n",
    "filtered_df = df[df['Curr_team'] != 'Unsold']\n",
    "ax = sns.countplot(data=filtered_df, x='Curr_team', hue='Type', palette='Set1')\n",
    "plt.title('Players in Each Team')\n",
    "plt.xlabel('Name of Team')\n",
    "plt.ylabel('Number of Player')\n",
    "plt.xticks(rotation=60)\n",
    "for p in ax.patches:\n",
    "    ax.annotate(format(p.get_height(), '.0f'), (p.get_x() + p.get_width() / 2., p.get_height()),\n",
    "                ha='center', va='center', xytext=(0, 4), textcoords='offset points')\n",
    "plt.show()"
   ]
  },
  {
   "cell_type": "code",
   "execution_count": 46,
   "id": "95443e97",
   "metadata": {
    "execution": {
     "iopub.execute_input": "2022-09-12T07:54:17.069672Z",
     "iopub.status.busy": "2022-09-12T07:54:17.069040Z",
     "iopub.status.idle": "2022-09-12T07:54:17.083686Z",
     "shell.execute_reply": "2022-09-12T07:54:17.082232Z"
    },
    "papermill": {
     "duration": 0.036788,
     "end_time": "2022-09-12T07:54:17.086395",
     "exception": false,
     "start_time": "2022-09-12T07:54:17.049607",
     "status": "completed"
    },
    "tags": []
   },
   "outputs": [
    {
     "data": {
      "text/plain": [
       "Curr_team\n",
       "Mumbai Indians                 1525.0\n",
       "Chennai Super Kings            1400.0\n",
       "Kolkata Knight Riders          1225.0\n",
       "Punjab Kings                   1150.0\n",
       "Delhi Capitals                 1075.0\n",
       "Royal Challengers Bangalore    1075.0\n",
       "Sunrisers Hyderabad            1075.0\n",
       "Gujarat Titans                 1000.0\n",
       "Lucknow Super Giants           1000.0\n",
       "Rajasthan Royals               1000.0\n",
       "Name: Sold_for_lakh, dtype: float64"
      ]
     },
     "execution_count": 46,
     "metadata": {},
     "output_type": "execute_result"
    }
   ],
   "source": [
    "# 9. Heighest Bid(successful ) by each team\n",
    "\n",
    "df[df['retention']=='In Auction'].groupby(['Curr_team'])['Sold_for_lakh'].max()[:-1].sort_values(ascending = False)"
   ]
  },
  {
   "cell_type": "code",
   "execution_count": 47,
   "id": "9e0b26df",
   "metadata": {
    "execution": {
     "iopub.execute_input": "2022-09-12T07:54:17.126170Z",
     "iopub.status.busy": "2022-09-12T07:54:17.125841Z",
     "iopub.status.idle": "2022-09-12T07:54:17.143051Z",
     "shell.execute_reply": "2022-09-12T07:54:17.141882Z"
    },
    "papermill": {
     "duration": 0.040477,
     "end_time": "2022-09-12T07:54:17.145531",
     "exception": false,
     "start_time": "2022-09-12T07:54:17.105054",
     "status": "completed"
    },
    "tags": []
   },
   "outputs": [
    {
     "data": {
      "text/html": [
       "<div>\n",
       "<style scoped>\n",
       "    .dataframe tbody tr th:only-of-type {\n",
       "        vertical-align: middle;\n",
       "    }\n",
       "\n",
       "    .dataframe tbody tr th {\n",
       "        vertical-align: top;\n",
       "    }\n",
       "\n",
       "    .dataframe thead th {\n",
       "        text-align: right;\n",
       "    }\n",
       "</style>\n",
       "<table border=\"1\" class=\"dataframe\">\n",
       "  <thead>\n",
       "    <tr style=\"text-align: right;\">\n",
       "      <th></th>\n",
       "      <th>Player</th>\n",
       "      <th>Type</th>\n",
       "      <th>Sold_for_lakh</th>\n",
       "      <th>Cost_in_dollars</th>\n",
       "      <th>Prev_team</th>\n",
       "      <th>Curr_team</th>\n",
       "      <th>status</th>\n",
       "      <th>retention</th>\n",
       "      <th>base_price</th>\n",
       "    </tr>\n",
       "  </thead>\n",
       "  <tbody>\n",
       "    <tr>\n",
       "      <th>71</th>\n",
       "      <td>Shreyas Iyer</td>\n",
       "      <td>BATTER</td>\n",
       "      <td>1225.0</td>\n",
       "      <td>1592.5</td>\n",
       "      <td>Delhi Capitals</td>\n",
       "      <td>Kolkata Knight Riders</td>\n",
       "      <td>sold</td>\n",
       "      <td>In Auction</td>\n",
       "      <td>200.0</td>\n",
       "    </tr>\n",
       "    <tr>\n",
       "      <th>193</th>\n",
       "      <td>Shimron Hetmyer</td>\n",
       "      <td>BATTER</td>\n",
       "      <td>850.0</td>\n",
       "      <td>1105.0</td>\n",
       "      <td>Delhi Capitals</td>\n",
       "      <td>Rajasthan Royals</td>\n",
       "      <td>sold</td>\n",
       "      <td>In Auction</td>\n",
       "      <td>150.0</td>\n",
       "    </tr>\n",
       "    <tr>\n",
       "      <th>217</th>\n",
       "      <td>Rahul Tripathi</td>\n",
       "      <td>BATTER</td>\n",
       "      <td>850.0</td>\n",
       "      <td>1105.0</td>\n",
       "      <td>Kolkata Knight Riders</td>\n",
       "      <td>Sunrisers Hyderabad</td>\n",
       "      <td>sold</td>\n",
       "      <td>In Auction</td>\n",
       "      <td>40.0</td>\n",
       "    </tr>\n",
       "    <tr>\n",
       "      <th>100</th>\n",
       "      <td>Shikhar Dhawan</td>\n",
       "      <td>BATTER</td>\n",
       "      <td>825.0</td>\n",
       "      <td>1072.5</td>\n",
       "      <td>Delhi Capitals</td>\n",
       "      <td>Punjab Kings</td>\n",
       "      <td>sold</td>\n",
       "      <td>In Auction</td>\n",
       "      <td>200.0</td>\n",
       "    </tr>\n",
       "    <tr>\n",
       "      <th>195</th>\n",
       "      <td>Devdutt Padikkal</td>\n",
       "      <td>BATTER</td>\n",
       "      <td>775.0</td>\n",
       "      <td>1007.5</td>\n",
       "      <td>Royal Challengers Bangalore</td>\n",
       "      <td>Rajasthan Royals</td>\n",
       "      <td>sold</td>\n",
       "      <td>In Auction</td>\n",
       "      <td>200.0</td>\n",
       "    </tr>\n",
       "  </tbody>\n",
       "</table>\n",
       "</div>"
      ],
      "text/plain": [
       "               Player    Type  Sold_for_lakh  Cost_in_dollars  \\\n",
       "71       Shreyas Iyer  BATTER         1225.0           1592.5   \n",
       "193   Shimron Hetmyer  BATTER          850.0           1105.0   \n",
       "217    Rahul Tripathi  BATTER          850.0           1105.0   \n",
       "100    Shikhar Dhawan  BATTER          825.0           1072.5   \n",
       "195  Devdutt Padikkal  BATTER          775.0           1007.5   \n",
       "\n",
       "                       Prev_team              Curr_team status   retention  \\\n",
       "71                Delhi Capitals  Kolkata Knight Riders   sold  In Auction   \n",
       "193               Delhi Capitals       Rajasthan Royals   sold  In Auction   \n",
       "217        Kolkata Knight Riders    Sunrisers Hyderabad   sold  In Auction   \n",
       "100               Delhi Capitals           Punjab Kings   sold  In Auction   \n",
       "195  Royal Challengers Bangalore       Rajasthan Royals   sold  In Auction   \n",
       "\n",
       "     base_price  \n",
       "71        200.0  \n",
       "193       150.0  \n",
       "217        40.0  \n",
       "100       200.0  \n",
       "195       200.0  "
      ]
     },
     "execution_count": 47,
     "metadata": {},
     "output_type": "execute_result"
    }
   ],
   "source": [
    "# 10. Top Five Batsman picked from Auction\n",
    "\n",
    "df[(df['retention']=='In Auction') & (df['Type']=='BATTER')].sort_values(by='Sold_for_lakh', ascending = False).head(5)"
   ]
  },
  {
   "cell_type": "code",
   "execution_count": 48,
   "id": "3cbe9251",
   "metadata": {
    "execution": {
     "iopub.execute_input": "2022-09-12T07:54:17.187239Z",
     "iopub.status.busy": "2022-09-12T07:54:17.186894Z",
     "iopub.status.idle": "2022-09-12T07:54:17.203310Z",
     "shell.execute_reply": "2022-09-12T07:54:17.202010Z"
    },
    "papermill": {
     "duration": 0.040649,
     "end_time": "2022-09-12T07:54:17.205882",
     "exception": false,
     "start_time": "2022-09-12T07:54:17.165233",
     "status": "completed"
    },
    "tags": []
   },
   "outputs": [
    {
     "data": {
      "text/html": [
       "<div>\n",
       "<style scoped>\n",
       "    .dataframe tbody tr th:only-of-type {\n",
       "        vertical-align: middle;\n",
       "    }\n",
       "\n",
       "    .dataframe tbody tr th {\n",
       "        vertical-align: top;\n",
       "    }\n",
       "\n",
       "    .dataframe thead th {\n",
       "        text-align: right;\n",
       "    }\n",
       "</style>\n",
       "<table border=\"1\" class=\"dataframe\">\n",
       "  <thead>\n",
       "    <tr style=\"text-align: right;\">\n",
       "      <th></th>\n",
       "      <th>Player</th>\n",
       "      <th>Type</th>\n",
       "      <th>Sold_for_lakh</th>\n",
       "      <th>Cost_in_dollars</th>\n",
       "      <th>Prev_team</th>\n",
       "      <th>Curr_team</th>\n",
       "      <th>status</th>\n",
       "      <th>retention</th>\n",
       "      <th>base_price</th>\n",
       "    </tr>\n",
       "  </thead>\n",
       "  <tbody>\n",
       "    <tr>\n",
       "      <th>22</th>\n",
       "      <td>Ravindra Jadeja</td>\n",
       "      <td>ALL-ROUNDER</td>\n",
       "      <td>1600.0</td>\n",
       "      <td>2080.0</td>\n",
       "      <td>Chennai Super Kings</td>\n",
       "      <td>Chennai Super Kings</td>\n",
       "      <td>sold</td>\n",
       "      <td>Retained</td>\n",
       "      <td>0.0</td>\n",
       "    </tr>\n",
       "    <tr>\n",
       "      <th>47</th>\n",
       "      <td>Rishabh Pant</td>\n",
       "      <td>WICKETKEEPER</td>\n",
       "      <td>1600.0</td>\n",
       "      <td>2080.0</td>\n",
       "      <td>Delhi Capitals</td>\n",
       "      <td>Delhi Capitals</td>\n",
       "      <td>sold</td>\n",
       "      <td>Retained</td>\n",
       "      <td>0.0</td>\n",
       "    </tr>\n",
       "    <tr>\n",
       "      <th>143</th>\n",
       "      <td>Rohit Sharma</td>\n",
       "      <td>BATTER</td>\n",
       "      <td>1600.0</td>\n",
       "      <td>2080.0</td>\n",
       "      <td>Mumbai Indians</td>\n",
       "      <td>Mumbai Indians</td>\n",
       "      <td>sold</td>\n",
       "      <td>Retained</td>\n",
       "      <td>0.0</td>\n",
       "    </tr>\n",
       "    <tr>\n",
       "      <th>168</th>\n",
       "      <td>Virat Kohli</td>\n",
       "      <td>BATTER</td>\n",
       "      <td>1500.0</td>\n",
       "      <td>1950.0</td>\n",
       "      <td>Royal Challengers Bangalore</td>\n",
       "      <td>Royal Challengers Bangalore</td>\n",
       "      <td>sold</td>\n",
       "      <td>Retained</td>\n",
       "      <td>0.0</td>\n",
       "    </tr>\n",
       "    <tr>\n",
       "      <th>214</th>\n",
       "      <td>Kane Williamson</td>\n",
       "      <td>BATTER</td>\n",
       "      <td>1400.0</td>\n",
       "      <td>1820.0</td>\n",
       "      <td>Sunrisers Hyderabad</td>\n",
       "      <td>Sunrisers Hyderabad</td>\n",
       "      <td>sold</td>\n",
       "      <td>Retained</td>\n",
       "      <td>0.0</td>\n",
       "    </tr>\n",
       "  </tbody>\n",
       "</table>\n",
       "</div>"
      ],
      "text/plain": [
       "              Player          Type  Sold_for_lakh  Cost_in_dollars  \\\n",
       "22   Ravindra Jadeja   ALL-ROUNDER         1600.0           2080.0   \n",
       "47      Rishabh Pant  WICKETKEEPER         1600.0           2080.0   \n",
       "143     Rohit Sharma        BATTER         1600.0           2080.0   \n",
       "168      Virat Kohli        BATTER         1500.0           1950.0   \n",
       "214  Kane Williamson        BATTER         1400.0           1820.0   \n",
       "\n",
       "                       Prev_team                    Curr_team status  \\\n",
       "22           Chennai Super Kings          Chennai Super Kings   sold   \n",
       "47                Delhi Capitals               Delhi Capitals   sold   \n",
       "143               Mumbai Indians               Mumbai Indians   sold   \n",
       "168  Royal Challengers Bangalore  Royal Challengers Bangalore   sold   \n",
       "214          Sunrisers Hyderabad          Sunrisers Hyderabad   sold   \n",
       "\n",
       "    retention  base_price  \n",
       "22   Retained         0.0  \n",
       "47   Retained         0.0  \n",
       "143  Retained         0.0  \n",
       "168  Retained         0.0  \n",
       "214  Retained         0.0  "
      ]
     },
     "execution_count": 48,
     "metadata": {},
     "output_type": "execute_result"
    }
   ],
   "source": [
    "# 11. Heighest Paid Retained players\n",
    "\n",
    "df[df['retention']=='Retained'].sort_values(by = 'Sold_for_lakh', ascending = False).head(5)"
   ]
  },
  {
   "cell_type": "code",
   "execution_count": 49,
   "id": "7f1a12e5",
   "metadata": {
    "execution": {
     "iopub.execute_input": "2022-09-12T07:54:17.247462Z",
     "iopub.status.busy": "2022-09-12T07:54:17.247132Z",
     "iopub.status.idle": "2022-09-12T07:54:17.256427Z",
     "shell.execute_reply": "2022-09-12T07:54:17.255763Z"
    },
    "papermill": {
     "duration": 0.032547,
     "end_time": "2022-09-12T07:54:17.258502",
     "exception": false,
     "start_time": "2022-09-12T07:54:17.225955",
     "status": "completed"
    },
    "tags": []
   },
   "outputs": [
    {
     "data": {
      "text/plain": [
       "Curr_team\n",
       "Chennai Super Kings            8705.0\n",
       "Delhi Capitals                 8640.0\n",
       "Gujarat Titans                 8965.0\n",
       "Kolkata Knight Riders          8155.0\n",
       "Lucknow Super Giants           8940.0\n",
       "Mumbai Indians                 8990.0\n",
       "Punjab Kings                   8455.0\n",
       "Rajasthan Royals               8905.0\n",
       "Royal Challengers Bangalore    8845.0\n",
       "Sunrisers Hyderabad            8990.0\n",
       "Name: Sold_for_lakh, dtype: float64"
      ]
     },
     "execution_count": 49,
     "metadata": {},
     "output_type": "execute_result"
    }
   ],
   "source": [
    "# 12. Amount Spent by each team in Auction\n",
    "\n",
    "amount_spent = df.groupby('Curr_team')['Sold_for_lakh'].sum()[:-1]\n",
    "amount_spent"
   ]
  },
  {
   "cell_type": "code",
   "execution_count": 50,
   "id": "d53b90a5",
   "metadata": {
    "execution": {
     "iopub.execute_input": "2022-09-12T07:54:17.300430Z",
     "iopub.status.busy": "2022-09-12T07:54:17.299860Z",
     "iopub.status.idle": "2022-09-12T07:54:17.694597Z",
     "shell.execute_reply": "2022-09-12T07:54:17.692632Z"
    },
    "papermill": {
     "duration": 0.418582,
     "end_time": "2022-09-12T07:54:17.697036",
     "exception": false,
     "start_time": "2022-09-12T07:54:17.278454",
     "status": "completed"
    },
    "tags": []
   },
   "outputs": [
    {
     "data": {
      "image/png": "[encoded data removed]",
      "text/plain": [
       "<Figure size 1500x500 with 1 Axes>"
      ]
     },
     "metadata": {},
     "output_type": "display_data"
    }
   ],
   "source": [
    "plt.figure(figsize=(15, 5))\n",
    "sns.barplot(x='Curr_team', y='Sold_for_lakh', data=df[df['Curr_team'] != 'Unsold'])\n",
    "plt.xticks(rotation=60)\n",
    "plt.ylabel('Amount Spent')\n",
    "plt.title('Amount Spent by Each Team')\n",
    "plt.show()"
   ]
  },
  {
   "cell_type": "code",
   "execution_count": 51,
   "id": "86e5e403",
   "metadata": {
    "execution": {
     "iopub.execute_input": "2022-09-12T07:54:17.770271Z",
     "iopub.status.busy": "2022-09-12T07:54:17.769899Z",
     "iopub.status.idle": "2022-09-12T07:54:17.782533Z",
     "shell.execute_reply": "2022-09-12T07:54:17.781705Z"
    },
    "papermill": {
     "duration": 0.066276,
     "end_time": "2022-09-12T07:54:17.784459",
     "exception": false,
     "start_time": "2022-09-12T07:54:17.718183",
     "status": "completed"
    },
    "tags": []
   },
   "outputs": [
    {
     "data": {
      "text/html": [
       "<div>\n",
       "<style scoped>\n",
       "    .dataframe tbody tr th:only-of-type {\n",
       "        vertical-align: middle;\n",
       "    }\n",
       "\n",
       "    .dataframe tbody tr th {\n",
       "        vertical-align: top;\n",
       "    }\n",
       "\n",
       "    .dataframe thead th {\n",
       "        text-align: right;\n",
       "    }\n",
       "</style>\n",
       "<table border=\"1\" class=\"dataframe\">\n",
       "  <thead>\n",
       "    <tr style=\"text-align: right;\">\n",
       "      <th></th>\n",
       "      <th>Player</th>\n",
       "      <th>Prev_team</th>\n",
       "    </tr>\n",
       "  </thead>\n",
       "  <tbody>\n",
       "    <tr>\n",
       "      <th>237</th>\n",
       "      <td>Suresh Raina</td>\n",
       "      <td>Chennai Super Kings</td>\n",
       "    </tr>\n",
       "    <tr>\n",
       "      <th>238</th>\n",
       "      <td>Steve Smith</td>\n",
       "      <td>Delhi Capitals</td>\n",
       "    </tr>\n",
       "    <tr>\n",
       "      <th>239</th>\n",
       "      <td>Shakib Al Hasan</td>\n",
       "      <td>Kolkata Knight Riders</td>\n",
       "    </tr>\n",
       "    <tr>\n",
       "      <th>240</th>\n",
       "      <td>Amit Mishra</td>\n",
       "      <td>Delhi Capitals</td>\n",
       "    </tr>\n",
       "    <tr>\n",
       "      <th>241</th>\n",
       "      <td>Adil Rashid</td>\n",
       "      <td>Punjab Kings</td>\n",
       "    </tr>\n",
       "    <tr>\n",
       "      <th>242</th>\n",
       "      <td>Imran Tahir</td>\n",
       "      <td>Chennai Super Kings</td>\n",
       "    </tr>\n",
       "    <tr>\n",
       "      <th>243</th>\n",
       "      <td>Mujeeb Zadran</td>\n",
       "      <td>Sunrisers Hyderabad</td>\n",
       "    </tr>\n",
       "    <tr>\n",
       "      <th>244</th>\n",
       "      <td>Adam Zampa</td>\n",
       "      <td>Royal Challengers Bangalore</td>\n",
       "    </tr>\n",
       "    <tr>\n",
       "      <th>245</th>\n",
       "      <td>Rajat Patidar</td>\n",
       "      <td>Royal Challengers Bangalore</td>\n",
       "    </tr>\n",
       "    <tr>\n",
       "      <th>246</th>\n",
       "      <td>Mohammed Azharuddeen</td>\n",
       "      <td>Royal Challengers Bangalore</td>\n",
       "    </tr>\n",
       "    <tr>\n",
       "      <th>249</th>\n",
       "      <td>M. Siddharth</td>\n",
       "      <td>Delhi Capitals</td>\n",
       "    </tr>\n",
       "    <tr>\n",
       "      <th>252</th>\n",
       "      <td>Dawid Malan</td>\n",
       "      <td>Punjab Kings</td>\n",
       "    </tr>\n",
       "    <tr>\n",
       "      <th>253</th>\n",
       "      <td>Eoin Morgan</td>\n",
       "      <td>Kolkata Knight Riders</td>\n",
       "    </tr>\n",
       "    <tr>\n",
       "      <th>254</th>\n",
       "      <td>Cheteshwar Pujara</td>\n",
       "      <td>Chennai Super Kings</td>\n",
       "    </tr>\n",
       "    <tr>\n",
       "      <th>255</th>\n",
       "      <td>Saurabh Tiwary</td>\n",
       "      <td>Mumbai Indians</td>\n",
       "    </tr>\n",
       "    <tr>\n",
       "      <th>257</th>\n",
       "      <td>Ishant Sharma</td>\n",
       "      <td>Delhi Capitals</td>\n",
       "    </tr>\n",
       "    <tr>\n",
       "      <th>259</th>\n",
       "      <td>Piyush Chawla</td>\n",
       "      <td>Mumbai Indians</td>\n",
       "    </tr>\n",
       "    <tr>\n",
       "      <th>260</th>\n",
       "      <td>Tabraiz Shamsi</td>\n",
       "      <td>Rajasthan Royals</td>\n",
       "    </tr>\n",
       "    <tr>\n",
       "      <th>262</th>\n",
       "      <td>Sachin Baby</td>\n",
       "      <td>Royal Challengers Bangalore</td>\n",
       "    </tr>\n",
       "    <tr>\n",
       "      <th>267</th>\n",
       "      <td>Virat Singh</td>\n",
       "      <td>Sunrisers Hyderabad</td>\n",
       "    </tr>\n",
       "    <tr>\n",
       "      <th>269</th>\n",
       "      <td>Akash Singh</td>\n",
       "      <td>Rajasthan Royals</td>\n",
       "    </tr>\n",
       "    <tr>\n",
       "      <th>273</th>\n",
       "      <td>Chris Lynn</td>\n",
       "      <td>Mumbai Indians</td>\n",
       "    </tr>\n",
       "    <tr>\n",
       "      <th>276</th>\n",
       "      <td>George Garton</td>\n",
       "      <td>Royal Challengers Bangalore</td>\n",
       "    </tr>\n",
       "    <tr>\n",
       "      <th>288</th>\n",
       "      <td>Andrew Tye</td>\n",
       "      <td>Rajasthan Royals</td>\n",
       "    </tr>\n",
       "    <tr>\n",
       "      <th>289</th>\n",
       "      <td>Sandeep Warrier</td>\n",
       "      <td>Kolkata Knight Riders</td>\n",
       "    </tr>\n",
       "    <tr>\n",
       "      <th>311</th>\n",
       "      <td>Shreevats Goswami</td>\n",
       "      <td>Sunrisers Hyderabad</td>\n",
       "    </tr>\n",
       "    <tr>\n",
       "      <th>313</th>\n",
       "      <td>Aditya Tare</td>\n",
       "      <td>Mumbai Indians</td>\n",
       "    </tr>\n",
       "    <tr>\n",
       "      <th>317</th>\n",
       "      <td>Lukman Hussain Meriwala</td>\n",
       "      <td>Delhi Capitals</td>\n",
       "    </tr>\n",
       "    <tr>\n",
       "      <th>325</th>\n",
       "      <td>Jalaj Saxena</td>\n",
       "      <td>Punjab Kings</td>\n",
       "    </tr>\n",
       "    <tr>\n",
       "      <th>337</th>\n",
       "      <td>Ben Cutting</td>\n",
       "      <td>Kolkata Knight Riders</td>\n",
       "    </tr>\n",
       "    <tr>\n",
       "      <th>339</th>\n",
       "      <td>Moises Henriques</td>\n",
       "      <td>Punjab Kings</td>\n",
       "    </tr>\n",
       "    <tr>\n",
       "      <th>342</th>\n",
       "      <td>Scott Kuggeleijn</td>\n",
       "      <td>Royal Challengers Bangalore</td>\n",
       "    </tr>\n",
       "    <tr>\n",
       "      <th>343</th>\n",
       "      <td>Pawan Negi</td>\n",
       "      <td>Kolkata Knight Riders</td>\n",
       "    </tr>\n",
       "    <tr>\n",
       "      <th>346</th>\n",
       "      <td>Dhawal Kulkarni</td>\n",
       "      <td>Mumbai Indians</td>\n",
       "    </tr>\n",
       "    <tr>\n",
       "      <th>348</th>\n",
       "      <td>Kane Richardson</td>\n",
       "      <td>Royal Challengers Bangalore</td>\n",
       "    </tr>\n",
       "    <tr>\n",
       "      <th>404</th>\n",
       "      <td>Kedar Jadhav</td>\n",
       "      <td>Sunrisers Hyderabad</td>\n",
       "    </tr>\n",
       "    <tr>\n",
       "      <th>429</th>\n",
       "      <td>Yudhvir Charak</td>\n",
       "      <td>Mumbai Indians</td>\n",
       "    </tr>\n",
       "    <tr>\n",
       "      <th>447</th>\n",
       "      <td>Kulwant Khejroliya</td>\n",
       "      <td>Delhi Capitals</td>\n",
       "    </tr>\n",
       "    <tr>\n",
       "      <th>535</th>\n",
       "      <td>Anirudha Joshi</td>\n",
       "      <td>Delhi Capitals</td>\n",
       "    </tr>\n",
       "    <tr>\n",
       "      <th>623</th>\n",
       "      <td>Agnivesh Ayachi</td>\n",
       "      <td>Punjab Kings</td>\n",
       "    </tr>\n",
       "  </tbody>\n",
       "</table>\n",
       "</div>"
      ],
      "text/plain": [
       "                      Player                    Prev_team\n",
       "237             Suresh Raina          Chennai Super Kings\n",
       "238              Steve Smith               Delhi Capitals\n",
       "239          Shakib Al Hasan        Kolkata Knight Riders\n",
       "240              Amit Mishra               Delhi Capitals\n",
       "241              Adil Rashid                 Punjab Kings\n",
       "242              Imran Tahir          Chennai Super Kings\n",
       "243            Mujeeb Zadran          Sunrisers Hyderabad\n",
       "244               Adam Zampa  Royal Challengers Bangalore\n",
       "245            Rajat Patidar  Royal Challengers Bangalore\n",
       "246     Mohammed Azharuddeen  Royal Challengers Bangalore\n",
       "249             M. Siddharth               Delhi Capitals\n",
       "252              Dawid Malan                 Punjab Kings\n",
       "253              Eoin Morgan        Kolkata Knight Riders\n",
       "254        Cheteshwar Pujara          Chennai Super Kings\n",
       "255           Saurabh Tiwary               Mumbai Indians\n",
       "257            Ishant Sharma               Delhi Capitals\n",
       "259            Piyush Chawla               Mumbai Indians\n",
       "260           Tabraiz Shamsi             Rajasthan Royals\n",
       "262              Sachin Baby  Royal Challengers Bangalore\n",
       "267              Virat Singh          Sunrisers Hyderabad\n",
       "269              Akash Singh             Rajasthan Royals\n",
       "273               Chris Lynn               Mumbai Indians\n",
       "276            George Garton  Royal Challengers Bangalore\n",
       "288               Andrew Tye             Rajasthan Royals\n",
       "289          Sandeep Warrier        Kolkata Knight Riders\n",
       "311        Shreevats Goswami          Sunrisers Hyderabad\n",
       "313              Aditya Tare               Mumbai Indians\n",
       "317  Lukman Hussain Meriwala               Delhi Capitals\n",
       "325             Jalaj Saxena                 Punjab Kings\n",
       "337              Ben Cutting        Kolkata Knight Riders\n",
       "339         Moises Henriques                 Punjab Kings\n",
       "342         Scott Kuggeleijn  Royal Challengers Bangalore\n",
       "343               Pawan Negi        Kolkata Knight Riders\n",
       "346          Dhawal Kulkarni               Mumbai Indians\n",
       "348          Kane Richardson  Royal Challengers Bangalore\n",
       "404             Kedar Jadhav          Sunrisers Hyderabad\n",
       "429           Yudhvir Charak               Mumbai Indians\n",
       "447       Kulwant Khejroliya               Delhi Capitals\n",
       "535           Anirudha Joshi               Delhi Capitals\n",
       "623          Agnivesh Ayachi                 Punjab Kings"
      ]
     },
     "execution_count": 51,
     "metadata": {},
     "output_type": "execute_result"
    }
   ],
   "source": [
    "# 13. List of players who Played IPL 2021 but went unsold in IPL 2022\n",
    "\n",
    "unsold_stars = df[(df.Prev_team != 'Not Participated in IPL 2021') & (df.Curr_team == 'Unsold')][['Player','Prev_team']]\n",
    "unsold_stars"
   ]
  },
  {
   "cell_type": "code",
   "execution_count": 52,
   "id": "f86c6dac",
   "metadata": {
    "execution": {
     "iopub.execute_input": "2022-09-12T07:54:17.827058Z",
     "iopub.status.busy": "2022-09-12T07:54:17.826429Z",
     "iopub.status.idle": "2022-09-12T07:54:17.835807Z",
     "shell.execute_reply": "2022-09-12T07:54:17.834340Z"
    },
    "papermill": {
     "duration": 0.033478,
     "end_time": "2022-09-12T07:54:17.838147",
     "exception": false,
     "start_time": "2022-09-12T07:54:17.804669",
     "status": "completed"
    },
    "tags": []
   },
   "outputs": [
    {
     "data": {
      "text/plain": [
       "Prev_team\n",
       "Chennai Super Kings            3\n",
       "Delhi Capitals                 7\n",
       "Kolkata Knight Riders          5\n",
       "Mumbai Indians                 6\n",
       "Punjab Kings                   5\n",
       "Rajasthan Royals               3\n",
       "Royal Challengers Bangalore    7\n",
       "Sunrisers Hyderabad            4\n",
       "Name: Player, dtype: int64"
      ]
     },
     "execution_count": 52,
     "metadata": {},
     "output_type": "execute_result"
    }
   ],
   "source": [
    "unsold_stars = unsold_stars.groupby('Prev_team')['Player'].count()\n",
    "unsold_stars"
   ]
  },
  {
   "cell_type": "code",
   "execution_count": 53,
   "id": "f6c09573",
   "metadata": {
    "execution": {
     "iopub.execute_input": "2022-09-12T07:54:17.880665Z",
     "iopub.status.busy": "2022-09-12T07:54:17.880335Z",
     "iopub.status.idle": "2022-09-12T07:54:18.074514Z",
     "shell.execute_reply": "2022-09-12T07:54:18.073531Z"
    },
    "papermill": {
     "duration": 0.217384,
     "end_time": "2022-09-12T07:54:18.076764",
     "exception": false,
     "start_time": "2022-09-12T07:54:17.859380",
     "status": "completed"
    },
    "tags": []
   },
   "outputs": [
    {
     "data": {
      "text/plain": [
       "<Axes: xlabel='Prev_team'>"
      ]
     },
     "execution_count": 53,
     "metadata": {},
     "output_type": "execute_result"
    },
    {
     "data": {
      "image/png": "[encoded data removed]",
      "text/plain": [
       "<Figure size 640x480 with 1 Axes>"
      ]
     },
     "metadata": {},
     "output_type": "display_data"
    }
   ],
   "source": [
    "unsold_stars.plot(kind='bar',color = sns.color_palette(\"bright\"))"
   ]
  }
 ],
 "metadata": {
  "kernelspec": {
   "display_name": "Python 3 (ipykernel)",
   "language": "python",
   "name": "python3"
  },
  "language_info": {
   "codemirror_mode": {
    "name": "ipython",
    "version": 3
   },
   "file_extension": ".py",
   "mimetype": "text/x-python",
   "name": "python",
   "nbconvert_exporter": "python",
   "pygments_lexer": "ipython3",
   "version": "3.11.3"
  },
  "papermill": {
   "default_parameters": {},
   "duration": 16.170548,
   "end_time": "2022-09-12T07:54:18.921934",
   "environment_variables": {},
   "exception": null,
   "input_path": "__notebook__.ipynb",
   "output_path": "__notebook__.ipynb",
   "parameters": {},
   "start_time": "2022-09-12T07:54:02.751386",
   "version": "2.3.4"
  }
 },
 "nbformat": 4,
 "nbformat_minor": 5
}
